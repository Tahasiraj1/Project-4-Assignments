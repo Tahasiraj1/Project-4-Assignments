{
  "nbformat": 4,
  "nbformat_minor": 0,
  "metadata": {
    "colab": {
      "provenance": [],
      "authorship_tag": "ABX9TyOXj63KdDxqdZ3T82z0j4cM",
      "include_colab_link": true
    },
    "kernelspec": {
      "name": "python3",
      "display_name": "Python 3"
    },
    "language_info": {
      "name": "python"
    }
  },
  "cells": [
    {
      "cell_type": "markdown",
      "metadata": {
        "id": "view-in-github",
        "colab_type": "text"
      },
      "source": [
        "<a href=\"https://colab.research.google.com/github/Tahasiraj1/Project-4-Assignments/blob/main/assignment_00_05.ipynb\" target=\"_parent\"><img src=\"https://colab.research.google.com/assets/colab-badge.svg\" alt=\"Open In Colab\"/></a>"
      ]
    },
    {
      "cell_type": "markdown",
      "source": [
        "1 - Add Two Numbers"
      ],
      "metadata": {
        "id": "vLsoL7XVfT4-"
      }
    },
    {
      "cell_type": "code",
      "execution_count": null,
      "metadata": {
        "id": "7maWnf-ge4Op"
      },
      "outputs": [],
      "source": [
        "def main():\n",
        "    num1 = int(input(\"Enter first number: \"))\n",
        "    num2 = int(input(\"Enter second number: \"))\n",
        "    sum = num1 + num2\n",
        "    print(f\"The sum of two numbers is: {sum}\")\n",
        "\n",
        "if __name__ == \"__main__\":\n",
        "    main()"
      ]
    },
    {
      "cell_type": "markdown",
      "source": [
        "2 - Agreement Bot"
      ],
      "metadata": {
        "id": "f9gaSQbwfaf5"
      }
    },
    {
      "cell_type": "code",
      "source": [
        "def main():\n",
        "    question = input(\"What's your favorite animal? \")\n",
        "    print(f\"My favorite animal is also {question}!\")\n",
        "\n",
        "\n",
        "if __name__ == '__main__':\n",
        "    main()"
      ],
      "metadata": {
        "id": "-psMnA8ifj1k"
      },
      "execution_count": null,
      "outputs": []
    },
    {
      "cell_type": "markdown",
      "source": [
        "3 - Fahrenheit to Celsius"
      ],
      "metadata": {
        "id": "oAxZA3Spfnng"
      }
    },
    {
      "cell_type": "code",
      "source": [
        "def main():\n",
        "    degrees_fahrenheit = int(input(\"Enter temperature in Fahrenheit: \"))\n",
        "    degree_celsius = (degrees_fahrenheit - 32) * 5.0/9.0\n",
        "    print(f\"Temperature: {degrees_fahrenheit:.1f}F = {degree_celsius}C\")\n",
        "\n",
        "\n",
        "if __name__ == '__main__':\n",
        "    main()"
      ],
      "metadata": {
        "id": "95HApr3PfuwO"
      },
      "execution_count": null,
      "outputs": []
    },
    {
      "cell_type": "markdown",
      "source": [
        "4 - How old are they"
      ],
      "metadata": {
        "id": "_e11UPZ3f17y"
      }
    },
    {
      "cell_type": "code",
      "source": [
        "def main():\n",
        "    persons = [\n",
        "    {\"name\": \"Anton\", \"age\": 21},\n",
        "    {'name': 'Beth', 'age': 27},\n",
        "    {'name': 'Chen', 'age': 47},\n",
        "    {'name': 'Drew', 'age': 68},\n",
        "    {'name': 'Ethan', 'age': 47},\n",
        "    ]\n",
        "\n",
        "    for person in persons:\n",
        "        print(f'{person['name']} is {person['age']}\\n')\n",
        "\n",
        "\n",
        "\n",
        "if __name__ == '__main__':\n",
        "    main()"
      ],
      "metadata": {
        "id": "3e8lCvoof67j"
      },
      "execution_count": null,
      "outputs": []
    },
    {
      "cell_type": "markdown",
      "source": [
        "5 - Trangle Perimeter"
      ],
      "metadata": {
        "id": "hXtXT1j5f7-q"
      }
    },
    {
      "cell_type": "code",
      "source": [
        "def main():\n",
        "    side1: float = float(input(\"What is the length of side 1? \"))\n",
        "    side2: float = float(input(\"What is the length of side 2? \"))\n",
        "    side3: float = float(input(\"What is the length of side 3? \"))\n",
        "    perimeter = side1 + side2 + side3\n",
        "    print(f\"The perimeter of triangle is {perimeter}\")\n",
        "\n",
        "\n",
        "if __name__ == '__main__':\n",
        "    main()"
      ],
      "metadata": {
        "id": "Uj87QLOogGkS"
      },
      "execution_count": null,
      "outputs": []
    },
    {
      "cell_type": "markdown",
      "source": [
        "6 - Square Numbers"
      ],
      "metadata": {
        "id": "l1o4rNzjgHox"
      }
    },
    {
      "cell_type": "code",
      "source": [
        "def main():\n",
        "    number = int(input(\"Type a number to see its square: \"))\n",
        "    square = number**2\n",
        "    print(f\"{number} squared is {square:.1f}\")\n",
        "\n",
        "\n",
        "\n",
        "if __name__ == '__main__':\n",
        "    main()"
      ],
      "metadata": {
        "id": "LAr_v0v1gNuH"
      },
      "execution_count": null,
      "outputs": []
    }
  ]
}