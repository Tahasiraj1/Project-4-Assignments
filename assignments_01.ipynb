{
  "nbformat": 4,
  "nbformat_minor": 0,
  "metadata": {
    "colab": {
      "provenance": [],
      "authorship_tag": "ABX9TyPrCxjLme+NNm41k6heV1kM",
      "include_colab_link": true
    },
    "kernelspec": {
      "name": "python3",
      "display_name": "Python 3"
    },
    "language_info": {
      "name": "python"
    }
  },
  "cells": [
    {
      "cell_type": "markdown",
      "metadata": {
        "id": "view-in-github",
        "colab_type": "text"
      },
      "source": [
        "<a href=\"https://colab.research.google.com/github/Tahasiraj1/Project-4-Assignments/blob/main/assignments_01.ipynb\" target=\"_parent\"><img src=\"https://colab.research.google.com/assets/colab-badge.svg\" alt=\"Open In Colab\"/></a>"
      ]
    },
    {
      "cell_type": "markdown",
      "source": [
        "01 - Basics"
      ],
      "metadata": {
        "id": "yiYb9Q-ZhwTa"
      }
    },
    {
      "cell_type": "markdown",
      "source": [
        "00 - Joke Bot"
      ],
      "metadata": {
        "id": "-EsIaAukhz9H"
      }
    },
    {
      "cell_type": "code",
      "execution_count": null,
      "metadata": {
        "id": "XsimUD8phght"
      },
      "outputs": [],
      "source": [
        "PROMPT: str = \"What do you want? \"\n",
        "JOKE: str = \"Sophia is heading out to the grocery store. A programmer tells her: get a liter of milk, and if they have eggs, get 12. Sophia returns with 13 liters of milk. The programmer asks why and Sophia replies: 'because they had eggs'\"\n",
        "SORRY: str = \"Sorry I only tell jokes\"\n",
        "\n",
        "def main():\n",
        "    user_input = input(PROMPT).strip().lower()\n",
        "\n",
        "    if user_input == \"joke\":\n",
        "        print(JOKE)\n",
        "    else:\n",
        "        print(SORRY)\n",
        "\n",
        "\n",
        "if __name__ == '__main__':\n",
        "    main()"
      ]
    },
    {
      "cell_type": "markdown",
      "source": [
        "01 - Double It"
      ],
      "metadata": {
        "id": "bKNXB1dUh6LM"
      }
    },
    {
      "cell_type": "code",
      "source": [
        "def main():\n",
        "    user_input = int(input(\"Enter a number to double: \"))\n",
        "    curr_value = user_input\n",
        "\n",
        "    while curr_value < 100:\n",
        "        prev_val = curr_value\n",
        "        curr_value *= 2\n",
        "        print(f\"{prev_val} doubled is {curr_value}\")\n",
        "\n",
        "\n",
        "if __name__ == '__main__':\n",
        "    main()"
      ],
      "metadata": {
        "id": "-VXSBdXHiCUS"
      },
      "execution_count": null,
      "outputs": []
    },
    {
      "cell_type": "markdown",
      "source": [
        "02 - Liftoff"
      ],
      "metadata": {
        "id": "qY9Yt9-LiDXA"
      }
    },
    {
      "cell_type": "code",
      "source": [
        "def main():\n",
        "    for i in range(10 , 0, -1):\n",
        "        print(i)\n",
        "    print(\"Liftoff\")\n",
        "\n",
        "if __name__ == '__main__':\n",
        "    main()"
      ],
      "metadata": {
        "id": "MOyBPjisp7cs"
      },
      "execution_count": null,
      "outputs": []
    },
    {
      "cell_type": "markdown",
      "source": [
        "03 - Guess My Number"
      ],
      "metadata": {
        "id": "qBMMd3Cap8Zz"
      }
    },
    {
      "cell_type": "code",
      "source": [
        "import random\n",
        "\n",
        "def main():\n",
        "    target = random.randint(1, 99)\n",
        "\n",
        "    print(\"\\nIm thinking of a number between 1 and 99.\\n\")\n",
        "\n",
        "    while True:\n",
        "        guess = int(input(\"Enter a new number: \"))\n",
        "\n",
        "        if guess == target:\n",
        "            print(f\"Congrats! The number was: {target}\")\n",
        "            break\n",
        "        elif guess < target:\n",
        "            print(\"Your guess is too low\")\n",
        "        elif guess > target:\n",
        "            print(\"Your guess is too high\")\n",
        "\n",
        "\n",
        "\n",
        "if __name__ == '__main__':\n",
        "    main()"
      ],
      "metadata": {
        "id": "PyJBjEUhqCvu"
      },
      "execution_count": null,
      "outputs": []
    },
    {
      "cell_type": "markdown",
      "source": [
        "04 - Random Numbers"
      ],
      "metadata": {
        "id": "CdI33EfgqEI_"
      }
    },
    {
      "cell_type": "code",
      "source": [
        "import random\n",
        "\n",
        "N_NUMBERS: int = 10\n",
        "MIN_VALUE: int = 1\n",
        "MAX_VALUE: int = 100\n",
        "\n",
        "def main():\n",
        "    for _ in range(N_NUMBERS):\n",
        "        random_num = random.randint(MIN_VALUE, MAX_VALUE)\n",
        "        print(random_num)\n",
        "\n",
        "if __name__ == '__main__':\n",
        "    main()"
      ],
      "metadata": {
        "id": "03BbzwEuqM9L"
      },
      "execution_count": null,
      "outputs": []
    },
    {
      "cell_type": "markdown",
      "source": [
        "02 - Intermediate"
      ],
      "metadata": {
        "id": "O8j830PNqN9T"
      }
    },
    {
      "cell_type": "markdown",
      "source": [
        "Control Flow for Console"
      ],
      "metadata": {
        "id": "jKlCSjTNqR5p"
      }
    },
    {
      "cell_type": "code",
      "source": [
        "import random\n",
        "import click\n",
        "\n",
        "\n",
        "welcome = \"\\nWelcome to the High-Low Game!\"\n",
        "print(welcome)\n",
        "dashes = len(welcome) * \"-\"\n",
        "print(dashes)\n",
        "score = 0\n",
        "orbit = 0\n",
        "\n",
        "while True:\n",
        "    orbit += 1\n",
        "\n",
        "    if score == 5:\n",
        "        message = click.style(\"Wow! You played perfectly!\", fg='green')\n",
        "    elif score > 5 // 2:\n",
        "        message = click.style(\"Good job, you played really well!\", fg='yellow')\n",
        "    else:\n",
        "        message = click.style(\"Better luck next time!\", fg='red')\n",
        "\n",
        "    if orbit == 6:\n",
        "        print('-' * len(message))\n",
        "        print(message)\n",
        "        print('-' * len(message))\n",
        "        print(\"Thanks for playing!\")\n",
        "        break\n",
        "\n",
        "    computer_num = random.randint(1, 100)\n",
        "    player_num = random.randint(1, 100)\n",
        "\n",
        "    print(f\"Round {orbit}\")\n",
        "    print(f\"Your number is {player_num}\")\n",
        "\n",
        "    guess = input(\"Do you think your number is higher or lower than the computer's?: \").strip().lower()\n",
        "\n",
        "    if player_num > computer_num and guess == 'higher':\n",
        "        print(click.style(f\"\\nYou were right! The computer's number was {computer_num}\", fg='green'))\n",
        "        score += 1\n",
        "        print(click.style(f\"Your score is now {score}\\n\", fg='green'))\n",
        "    elif player_num < computer_num and guess == 'lower':\n",
        "        print(click.style(f\"\\nYou were right! The computer's number was {computer_num}\", fg='green'))\n",
        "        score += 1\n",
        "        print(click.style(f\"Your score is now {score}\\n\", fg='green'))\n",
        "    else:\n",
        "        print(click.style(f\"\\nAww, that's incorrect. The computer's number was {computer_num}\", fg='red'))\n",
        "        print(click.style(f\"Your score is now {score}\\n\", fg='red'))"
      ],
      "metadata": {
        "id": "Hz4nlAHcqVCA"
      },
      "execution_count": null,
      "outputs": []
    },
    {
      "cell_type": "markdown",
      "source": [
        "Intro to Python"
      ],
      "metadata": {
        "id": "qZbkDPTNqdqk"
      }
    },
    {
      "cell_type": "code",
      "source": [
        "planets = {\n",
        "    \"Mercury\": 0.376,\n",
        "    \"Venus\": 0.889,\n",
        "    \"Mars\": 0.378,\n",
        "    \"Jupiter\": 2.36,\n",
        "    \"Saturn\": 1.081,\n",
        "    \"Uranus\": 0.815,\n",
        "    \"Neptune\": 1.14,\n",
        "}\n",
        "\n",
        "earth_weight = float(input(\"\\nEnter a weight on Earth: \"))\n",
        "\n",
        "planet = input(\"Enter a planet: \").strip().capitalize()\n",
        "\n",
        "if planet in planets:\n",
        "    equivalent_weight = round(earth_weight * planets[planet], 2)\n",
        "    print(f\"The equivalent weight on {planet}: {equivalent_weight:.2f}\")\n",
        "else:\n",
        "    print(\"Invalid planet name. Please try again.\")"
      ],
      "metadata": {
        "id": "2c9yeqb7qf7S"
      },
      "execution_count": null,
      "outputs": []
    },
    {
      "cell_type": "markdown",
      "source": [
        "Lists And Dicts"
      ],
      "metadata": {
        "id": "l66EDFBFqgqa"
      }
    },
    {
      "cell_type": "code",
      "source": [
        "import click\n",
        "\n",
        "# Accessing Elements\n",
        "def accessing_el(array, index):\n",
        "    try:\n",
        "        return array[index]\n",
        "    except IndexError:\n",
        "        return click.style(\"Index out of range.\", fg='red')\n",
        "\n",
        "\n",
        "# Modifying Elements\n",
        "def modify_list(array, index, new_val):\n",
        "    try:\n",
        "        array[index] = new_val\n",
        "        return array\n",
        "    except IndexError:\n",
        "        return click.style(\"Index out of range.\", fg='red')\n",
        "\n",
        "\n",
        "# Slicing the List\n",
        "def slice_list(array, start_i, end_i):\n",
        "    try:\n",
        "        return array[start_i:end_i]\n",
        "    except:\n",
        "        return click.style(\"Invalid indices\", fg='red')\n",
        "\n",
        "\n",
        "\n",
        "def main():\n",
        "    fruit_list = ['apple', 'banana', 'orange', 'grape', 'pineapple']\n",
        "    print(click.style(f\"\\nCurrent list: {fruit_list}\", fg='green'))\n",
        "    choice = input(click.style(\"\\nChoose an option: access, modify, or slice: \", fg='yellow')).strip().lower()\n",
        "\n",
        "    if choice == 'access':\n",
        "        index = int(input(\"Enter an index to access: \"))\n",
        "        print(click.style(accessing_el(fruit_list, index), fg='green'))\n",
        "\n",
        "    elif choice == 'modify':\n",
        "        index = int(input(\"Enter an index to modify: \"))\n",
        "        element = input(\"Enter an element to modify with: \")\n",
        "        print(click.style(modify_list(fruit_list, index, element), fg='green'))\n",
        "\n",
        "    elif choice == 'slice':\n",
        "        start = int(input(\"Enter an index to start slicing: \"))\n",
        "        stop = int(input(\"Enter an index to stop slicing at: \"))\n",
        "        print(click.style(slice_list(fruit_list, start, stop), fg='green'))\n",
        "\n",
        "\n",
        "\n",
        "if __name__ == '__main__':\n",
        "    main()"
      ],
      "metadata": {
        "id": "uYWwcUxwqmjb"
      },
      "execution_count": null,
      "outputs": []
    }
  ]
}