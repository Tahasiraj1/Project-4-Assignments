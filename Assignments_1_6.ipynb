{
  "nbformat": 4,
  "nbformat_minor": 0,
  "metadata": {
    "colab": {
      "provenance": [],
      "authorship_tag": "ABX9TyMBWkGSVGdXPjrlngjxhPr3",
      "include_colab_link": true
    },
    "kernelspec": {
      "name": "python3",
      "display_name": "Python 3"
    },
    "language_info": {
      "name": "python"
    }
  },
  "cells": [
    {
      "cell_type": "markdown",
      "metadata": {
        "id": "view-in-github",
        "colab_type": "text"
      },
      "source": [
        "<a href=\"https://colab.research.google.com/github/Tahasiraj1/Project-4-Assignments/blob/main/Assignments_1_6.ipynb\" target=\"_parent\"><img src=\"https://colab.research.google.com/assets/colab-badge.svg\" alt=\"Open In Colab\"/></a>"
      ]
    },
    {
      "cell_type": "markdown",
      "source": [
        "1 - Madlibs"
      ],
      "metadata": {
        "id": "AErw0jq1rb5s"
      }
    },
    {
      "cell_type": "code",
      "execution_count": null,
      "metadata": {
        "id": "W3g03iUYrVOR"
      },
      "outputs": [],
      "source": [
        "adj = input(\"Enter an adjective: \")\n",
        "animal = input(\"Enter an animal: \")\n",
        "noun = input(\"Enter a noun: \")\n",
        "adj1 = input(\"Enter another adjective: \")\n",
        "noun1 = input(\"Enter another noun: \")\n",
        "place = input(\"Enter a place: \")\n",
        "adj2 = input(\"Enter another adjective: \")\n",
        "animal1 = input(\"Enter another animal: \")\n",
        "food = input(\"Enter a food: \")\n",
        "verb = input(\"Enter a verb: \")\n",
        "adj3 = input(\"Enter another adjective: \")\n",
        "place1 = input(\"Enter another place: \")\n",
        "verb1 = input(\"Enter a verb ending in -ing: \")\n",
        "adj4 = input(\"Enter another adjective: \")\n",
        "noun2 = input(\"Enter another noun: \")\n",
        "plural_noun = input(\"Enter a plural noun: \")\n",
        "\n",
        "madlib = f\"On a {adj} afternoon, a {animal} decided to go on an adventure. It packed a {noun}, grabbed a {adj1} {noun1}, and set off towards the {place}. Along the way, it met a {adj2} {animal1} who offered it a {food}. Together, they {verb} through the {adj3} {place1}, laughing and {verb1} all the way. By the end of the day, they had discovered a {adj4} {noun2} and became the best of {plural_noun}!\"\n",
        "print(madlib)"
      ]
    },
    {
      "cell_type": "markdown",
      "source": [
        "2 - Guess the Number (computer)"
      ],
      "metadata": {
        "id": "ElJD--yxriIp"
      }
    },
    {
      "cell_type": "code",
      "source": [
        "import random\n",
        "\n",
        "\n",
        "def guess(x):\n",
        "    random_number = random.randint(1, x)\n",
        "    guess = 0\n",
        "    while guess != random_number:\n",
        "        guess = int(input(f\"Guess a number between 1 and {x}: \"))\n",
        "\n",
        "        if guess > random_number:\n",
        "            print(\"Too High!\")\n",
        "        elif guess < random_number:\n",
        "            print(\"Too Low!\")\n",
        "\n",
        "    print(f\"Congrats you guess the number {x} correctly!!\")\n",
        "\n",
        "guess(5)"
      ],
      "metadata": {
        "id": "iqNucJmvrols"
      },
      "execution_count": null,
      "outputs": []
    },
    {
      "cell_type": "markdown",
      "source": [
        "3 - Guess the Number (User)"
      ],
      "metadata": {
        "id": "C9FMYQCxrpfs"
      }
    },
    {
      "cell_type": "code",
      "source": [
        "import random\n",
        "\n",
        "def computer_guess(x):\n",
        "    low = 1\n",
        "    high = x\n",
        "    feedback = ''\n",
        "\n",
        "    while feedback != 'c':\n",
        "        if low != high:\n",
        "            guess = random.randint(low, high)\n",
        "        elif low == high:\n",
        "            guess = low\n",
        "\n",
        "        feedback = input(f\"Is {guess} too high (h), too low (l), or correct (c)? \")\n",
        "\n",
        "        if feedback == 'h':\n",
        "            high = guess - 1\n",
        "        elif feedback == 'l':\n",
        "            low = guess + 1\n",
        "\n",
        "    print(f\"Congrats, computer guessed the number {guess}, correctly!\")\n",
        "\n",
        "\n",
        "computer_guess(100)\n",
        "\n"
      ],
      "metadata": {
        "id": "cBV9mhIKrtKZ"
      },
      "execution_count": null,
      "outputs": []
    },
    {
      "cell_type": "markdown",
      "source": [
        "4 - Rock Paper Scissors"
      ],
      "metadata": {
        "id": "RCb7Cfbjr3G4"
      }
    },
    {
      "cell_type": "code",
      "source": [
        "import random\n",
        "\n",
        "def play():\n",
        "    player = input(\"Whats your choice? rock is 'r', paper is 'p', and scissors is 's'. \")\n",
        "    computer = random.choice(['r', 'p', 's'])\n",
        "\n",
        "    if computer == player:\n",
        "        return \"It's a tie!\"\n",
        "\n",
        "    if is_win(player, computer):\n",
        "        return f\"You Won! computer choice was {computer}\"\n",
        "\n",
        "    return f\"You Lost! computer choice was {computer}\"\n",
        "\n",
        "\n",
        "def is_win(player, opponent):\n",
        "    if (player == 'p' and opponent == 'r') or (player == 's' and opponent == 'p') or (player == 'r' and opponent == 's'):\n",
        "        return True\n",
        "\n",
        "print(play())"
      ],
      "metadata": {
        "id": "m1--pkpgr5vn"
      },
      "execution_count": null,
      "outputs": []
    },
    {
      "cell_type": "markdown",
      "source": [
        "5 - Hangman"
      ],
      "metadata": {
        "id": "iVc-fyPor6zm"
      }
    },
    {
      "cell_type": "code",
      "source": [
        "import click\n",
        "import random\n",
        "import string\n",
        "\n",
        "words =[\"aback\",\"abaft\",\"abandoned\",\"abashed\",\"aberrant\",\"abhorrent\",\"abiding\",\"abject\",\"ablaze\",\"able\",\"abnormal\",\"aboard\",\"aboriginal\",\"abortive\",\"abounding\",\"abrasive\",\"abrupt\",\"absent\",\"absorbed\",\"absorbing\",\"abstracted\",\"absurd\",\"abundant\",\"abusive\",\"accept\",\"acceptable\",\"accessible\",\"accidental\",\"account\",\"accurate\",\"achiever\",\"acid\",\"acidic\",\"acoustic\",\"acoustics\",\"acrid\",\"act\",\"action\",\"activity\",\"actor\",\"actually\",\"ad hoc\",\"adamant\",\"adaptable\",\"add\",\"addicted\",\"addition\",\"adhesive\",\"adjoining\",\"adjustment\",\"admire\",\"admit\",\"adorable\",\"adventurous\",\"advertisement\",\"advice\",\"advise\",\"afford\",\"afraid\",\"aftermath\",\"afternoon\",\"afterthought\",\"aggressive\",\"agonizing\",\"agree\",\"agreeable\",\"agreement\",\"ahead\",\"air\",\"airplane\",\"airport\",\"ajar\",\"alarm\",\"alcoholic\",\"alert\",\"alike\",\"alive\",\"alleged\",\"allow\",\"alluring\",\"aloof\",\"amazing\",\"ambiguous\",\"ambitious\",\"amount\",\"amuck\",\"amuse\",\"amused\",\"amusement\",\"amusing\",\"analyze\",\"ancient\",\"anger\",\"angle\",\"angry\",\"animal\",\"animated\",\"announce\",\"annoy\",\"annoyed\",\"annoying\",\"answer\",\"ants\",\"anxious\",\"apathetic\",\"apologise\",\"apparatus\",\"apparel\",\"appear\",\"applaud\",\"appliance\",\"appreciate\",\"approval\",\"approve\",\"aquatic\",\"arch\",\"argue\",\"argument\",\"arithmetic\",\"arm\",\"army\",\"aromatic\",\"arrange\",\"arrest\",\"arrive\",\"arrogant\",\"art\",\"ashamed\",\"ask\",\"aspiring\",\"assorted\",\"astonishing\",\"attach\",\"attack\",\"attempt\",\"attend\",\"attract\",\"attraction\",\"attractive\",\"aunt\",\"auspicious\",\"authority\",\"automatic\",\"available\",\"average\",\"avoid\",\"awake\",\"aware\",\"awesome\",\"awful\",\"axiomatic\",\"babies\",\"baby\",\"back\",\"bad\",\"badge\",\"bag\",\"bait\",\"bake\",\"balance\",\"ball\",\"ban\",\"bang\",\"barbarous\",\"bare\",\"base\",\"baseball\",\"bashful\",\"basin\",\"basket\",\"basketball\",\"bat\",\"bath\",\"bathe\",\"battle\",\"bawdy\",\"bead\",\"beam\",\"bear\",\"beautiful\",\"bed\",\"bedroom\",\"beds\",\"bee\",\"beef\",\"befitting\",\"beg\",\"beginner\",\"behave\",\"behavior\",\"belief\",\"believe\",\"bell\",\"belligerent\",\"bells\",\"belong\",\"beneficial\",\"bent\",\"berry\",\"berserk\",\"best\",\"better\",\"bewildered\",\"big\",\"bike\",\"bikes\",\"billowy\",\"bird\",\"birds\",\"birth\",\"birthday\",\"bit\",\"bite\",\"bite-sized\",\"bitter\",\"bizarre\",\"black\",\"black-and-white\",\"blade\",\"bleach\",\"bless\",\"blind\",\"blink\",\"blood\",\"bloody\",\"blot\",\"blow\",\"blue\",\"blue-eyed\",\"blush\",\"blushing\",\"board\",\"boast\",\"boat\",\"boil\",\"boiling\",\"bolt\",\"bomb\",\"bone\",\"book\",\"books\",\"boorish\",\"boot\",\"border\",\"bore\",\"bored\",\"boring\",\"borrow\",\"bottle\",\"bounce\",\"bouncy\",\"boundary\",\"boundless\",\"bow\",\"box\",\"boy\",\"brainy\",\"brake\",\"branch\",\"brash\",\"brass\",\"brave\",\"brawny\",\"breakable\",\"breath\",\"breathe\",\"breezy\",\"brick\",\"bridge\",\"brief\",\"bright\",\"broad\",\"broken\",\"brother\",\"brown\",\"bruise\",\"brush\",\"bubble\",\"bucket\",\"building\",\"bulb\",\"bump\",\"bumpy\",\"burly\",\"burn\",\"burst\",\"bury\",\"bushes\",\"business\",\"bustling\",\"busy\",\"butter\",\"button\",\"buzz\",\"cabbage\",\"cable\",\"cactus\",\"cagey\",\"cake\",\"cakes\",\"calculate\",\"calculating\",\"calculator\",\"calendar\",\"call\",\"callous\",\"calm\",\"camera\",\"camp\",\"can\",\"cannon\",\"canvas\",\"cap\",\"capable\",\"capricious\",\"caption\",\"car\",\"card\",\"care\",\"careful\",\"careless\",\"caring\",\"carpenter\",\"carriage\",\"carry\",\"cars\",\"cart\",\"carve\",\"cast\",\"cat\",\"cats\",\"cattle\",\"cause\",\"cautious\",\"cave\",\"ceaseless\",\"celery\",\"cellar\",\"cemetery\",\"cent\",\"certain\",\"chalk\",\"challenge\",\"chance\",\"change\",\"changeable\",\"channel\",\"charge\",\"charming\",\"chase\",\"cheap\",\"cheat\",\"check\",\"cheer\",\"cheerful\",\"cheese\",\"chemical\",\"cherries\",\"cherry\",\"chess\",\"chew\",\"chicken\",\"chickens\",\"chief\",\"childlike\",\"children\",\"chilly\",\"chin\",\"chivalrous\",\"choke\",\"chop\",\"chubby\",\"chunky\",\"church\",\"circle\",\"claim\",\"clam\",\"clammy\",\"clap\",\"class\",\"classy\",\"clean\",\"clear\",\"clever\",\"clip\",\"cloistered\",\"close\",\"closed\",\"cloth\",\"cloudy\",\"clover\",\"club\",\"clumsy\",\"cluttered\",\"coach\",\"coal\",\"coast\",\"coat\",\"cobweb\",\"coherent\",\"coil\",\"cold\",\"collar\",\"collect\",\"color\",\"colorful\",\"colossal\",\"colour\",\"comb\",\"combative\",\"comfortable\",\"command\",\"committee\",\"common\",\"communicate\",\"company\",\"compare\",\"comparison\",\"compete\",\"competition\",\"complain\",\"complete\",\"complex\",\"concentrate\",\"concern\",\"concerned\",\"condemned\",\"condition\",\"confess\",\"confuse\",\"confused\",\"connect\",\"connection\",\"conscious\",\"consider\",\"consist\",\"contain\",\"continue\",\"control\",\"cooing\",\"cook\",\"cool\",\"cooperative\",\"coordinated\",\"copper\",\"copy\",\"corn\",\"correct\",\"cough\",\"count\",\"country\",\"courageous\",\"cover\",\"cow\",\"cowardly\",\"cows\",\"crabby\",\"crack\",\"cracker\",\"crash\",\"crate\",\"craven\",\"crawl\",\"crayon\",\"crazy\",\"cream\",\"creator\",\"creature\",\"credit\",\"creepy\",\"crib\",\"crime\",\"crook\",\"crooked\",\"cross\",\"crow\",\"crowd\",\"crowded\",\"crown\",\"cruel\",\"crush\",\"cry\",\"cub\",\"cuddly\",\"cultured\",\"cumbersome\",\"cup\",\"cure\",\"curious\",\"curl\",\"curly\",\"current\",\"curtain\",\"curve\",\"curved\",\"curvy\",\"cushion\",\"cut\",\"cute\",\"cycle\",\"cynical\",\"dad\",\"daffy\",\"daily\",\"dam\",\"damage\",\"damaged\",\"damaging\",\"damp\",\"dance\",\"dangerous\",\"dapper\",\"dare\",\"dark\",\"dashing\",\"daughter\",\"day\",\"dazzling\",\"dead\",\"deadpan\",\"deafening\",\"dear\",\"death\",\"debonair\",\"debt\",\"decay\",\"deceive\",\"decide\",\"decision\",\"decisive\",\"decorate\",\"decorous\",\"deep\",\"deeply\",\"deer\",\"defeated\",\"defective\",\"defiant\",\"degree\",\"delay\",\"delicate\",\"delicious\",\"delight\",\"delightful\",\"delirious\",\"deliver\",\"demonic\",\"depend\",\"dependent\",\"depressed\",\"deranged\",\"describe\",\"descriptive\",\"desert\",\"deserted\",\"deserve\",\"design\",\"desire\",\"desk\",\"destroy\",\"destruction\",\"detail\",\"detailed\",\"detect\",\"determined\",\"develop\",\"development\",\"devilish\",\"didactic\",\"different\",\"difficult\",\"digestion\",\"diligent\",\"dime\",\"dinner\",\"dinosaurs\",\"direction\",\"direful\",\"dirt\",\"dirty\",\"disagree\",\"disagreeable\",\"disappear\",\"disapprove\",\"disarm\",\"disastrous\",\"discover\",\"discovery\",\"discreet\",\"discussion\",\"disgusted\",\"disgusting\",\"disillusioned\",\"dislike\",\"dispensable\",\"distance\",\"distinct\",\"distribution\",\"disturbed\",\"divergent\",\"divide\",\"division\",\"dizzy\",\"dock\",\"doctor\",\"dog\",\"dogs\",\"doll\",\"dolls\",\"domineering\",\"donkey\",\"door\",\"double\",\"doubt\",\"doubtful\",\"downtown\",\"drab\",\"draconian\",\"drag\",\"drain\",\"dramatic\",\"drawer\",\"dream\",\"dreary\",\"dress\",\"drink\",\"drip\",\"driving\",\"drop\",\"drown\",\"drum\",\"drunk\",\"dry\",\"duck\",\"ducks\",\"dull\",\"dust\",\"dusty\",\"dynamic\",\"dysfunctional\",\"eager\",\"ear\",\"early\",\"earn\",\"earsplitting\",\"earth\",\"earthquake\",\"earthy\",\"easy\",\"eatable\",\"economic\",\"edge\",\"educate\",\"educated\",\"education\",\"effect\",\"efficacious\",\"efficient\",\"egg\",\"eggnog\",\"eggs\",\"eight\",\"elastic\",\"elated\",\"elbow\",\"elderly\",\"electric\",\"elegant\",\"elfin\",\"elite\",\"embarrass\",\"embarrassed\",\"eminent\",\"employ\",\"empty\",\"enchanted\",\"enchanting\",\"encourage\",\"encouraging\",\"end\",\"endurable\",\"energetic\",\"engine\",\"enjoy\",\"enormous\",\"enter\",\"entertain\",\"entertaining\",\"enthusiastic\",\"envious\",\"equable\",\"equal\",\"erect\",\"erratic\",\"error\",\"escape\",\"ethereal\",\"evanescent\",\"evasive\",\"even\",\"event\",\"examine\",\"example\",\"excellent\",\"exchange\",\"excite\",\"excited\",\"exciting\",\"exclusive\",\"excuse\",\"exercise\",\"exist\",\"existence\",\"exotic\",\"expand\",\"expansion\",\"expect\",\"expensive\",\"experience\",\"expert\",\"explain\",\"explode\",\"extend\",\"extra-large\",\"extra-small\",\"exuberant\",\"exultant\",\"eye\",\"eyes\",\"fabulous\",\"face\",\"fact\",\"fade\",\"faded\",\"fail\",\"faint\",\"fair\",\"fairies\",\"faithful\",\"fall\",\"fallacious\",\"false\",\"familiar\",\"famous\",\"fanatical\",\"fancy\",\"fang\",\"fantastic\",\"far\",\"far-flung\",\"farm\",\"fascinated\",\"fast\",\"fasten\",\"fat\",\"faulty\",\"fax\",\"fear\",\"fearful\",\"fearless\",\"feeble\",\"feeling\",\"feigned\",\"female\",\"fence\",\"fertile\",\"festive\",\"fetch\",\"few\",\"field\",\"fierce\",\"file\",\"fill\",\"film\",\"filthy\",\"fine\",\"finger\",\"finicky\",\"fire\",\"fireman\",\"first\",\"fish\",\"fit\",\"five\",\"fix\",\"fixed\",\"flag\",\"flagrant\",\"flaky\",\"flame\",\"flap\",\"flash\",\"flashy\",\"flat\",\"flavor\",\"flawless\",\"flesh\",\"flight\",\"flimsy\",\"flippant\",\"float\",\"flock\",\"flood\",\"floor\",\"flow\",\"flower\",\"flowers\",\"flowery\",\"fluffy\",\"fluttering\",\"fly\",\"foamy\",\"fog\",\"fold\",\"follow\",\"food\",\"fool\",\"foolish\",\"foot\",\"force\",\"foregoing\",\"forgetful\",\"fork\",\"form\",\"fortunate\",\"found\",\"four\",\"fowl\",\"fragile\",\"frail\",\"frame\",\"frantic\",\"free\",\"freezing\",\"frequent\",\"fresh\",\"fretful\",\"friction\",\"friend\",\"friendly\",\"friends\",\"frighten\",\"frightened\",\"frightening\",\"frog\",\"frogs\",\"front\",\"fruit\",\"fry\",\"fuel\",\"full\",\"fumbling\",\"functional\",\"funny\",\"furniture\",\"furry\",\"furtive\",\"future\",\"futuristic\",\"fuzzy\",\"gabby\",\"gainful\",\"gamy\",\"gaping\",\"garrulous\",\"gate\",\"gather\",\"gaudy\",\"gaze\",\"geese\",\"general\",\"gentle\",\"ghost\",\"giant\",\"giants\",\"giddy\",\"gifted\",\"gigantic\",\"giraffe\",\"girl\",\"girls\",\"glamorous\",\"glass\",\"gleaming\",\"glib\",\"glistening\",\"glorious\",\"glossy\",\"glove\",\"glow\",\"glue\",\"godly\",\"gold\",\"good\",\"goofy\",\"gorgeous\",\"government\",\"governor\",\"grab\",\"graceful\",\"grade\",\"grain\",\"grandfather\",\"grandiose\",\"grandmother\",\"grape\",\"grass\",\"grate\",\"grateful\",\"gratis\",\"gray\",\"grease\",\"greasy\",\"great\",\"greedy\",\"green\",\"greet\",\"grey\",\"grieving\",\"grin\",\"grip\",\"groan\",\"groovy\",\"grotesque\",\"grouchy\",\"ground\",\"group\",\"growth\",\"grubby\",\"gruesome\",\"grumpy\",\"guarantee\",\"guard\",\"guarded\",\"guess\",\"guide\",\"guiltless\",\"guitar\",\"gullible\",\"gun\",\"gusty\",\"guttural\",\"habitual\",\"hair\",\"haircut\",\"half\",\"hall\",\"hallowed\",\"halting\",\"hammer\",\"hand\",\"handle\",\"hands\",\"handsome\",\"handsomely\",\"handy\",\"hang\",\"hanging\",\"hapless\",\"happen\",\"happy\",\"harass\",\"harbor\",\"hard\",\"hard-to-find\",\"harm\",\"harmonious\",\"harmony\",\"harsh\",\"hat\",\"hate\",\"hateful\",\"haunt\",\"head\",\"heady\",\"heal\",\"health\",\"healthy\",\"heap\",\"heartbreaking\",\"heat\",\"heavenly\",\"heavy\",\"hellish\",\"help\",\"helpful\",\"helpless\",\"hesitant\",\"hideous\",\"high\",\"high-pitched\",\"highfalutin\",\"hilarious\",\"hill\",\"hissing\",\"historical\",\"history\",\"hobbies\",\"hole\",\"holiday\",\"holistic\",\"hollow\",\"home\",\"homeless\",\"homely\",\"honey\",\"honorable\",\"hook\",\"hop\",\"hope\",\"horn\",\"horrible\",\"horse\",\"horses\",\"hose\",\"hospitable\",\"hospital\",\"hot\",\"hour\",\"house\",\"houses\",\"hover\",\"hug\",\"huge\",\"hulking\",\"hum\",\"humdrum\",\"humor\",\"humorous\",\"hungry\",\"hunt\",\"hurried\",\"hurry\",\"hurt\",\"hushed\",\"husky\",\"hydrant\",\"hypnotic\",\"hysterical\",\"ice\",\"icicle\",\"icky\",\"icy\",\"idea\",\"identify\",\"idiotic\",\"ignorant\",\"ignore\",\"ill\",\"ill-fated\",\"ill-informed\",\"illegal\",\"illustrious\",\"imaginary\",\"imagine\",\"immense\",\"imminent\",\"impartial\",\"imperfect\",\"impolite\",\"important\",\"imported\",\"impossible\",\"impress\",\"improve\",\"impulse\",\"incandescent\",\"include\",\"income\",\"incompetent\",\"inconclusive\",\"increase\",\"incredible\",\"industrious\",\"industry\",\"inexpensive\",\"infamous\",\"influence\",\"inform\",\"inject\",\"injure\",\"ink\",\"innate\",\"innocent\",\"inquisitive\",\"insect\",\"insidious\",\"instinctive\",\"instruct\",\"instrument\",\"insurance\",\"intelligent\",\"intend\",\"interest\",\"interesting\",\"interfere\",\"internal\",\"interrupt\",\"introduce\",\"invent\",\"invention\",\"invincible\",\"invite\",\"irate\",\"iron\",\"irritate\",\"irritating\",\"island\",\"itch\",\"itchy\",\"jaded\",\"jagged\",\"jail\",\"jam\",\"jar\",\"jazzy\",\"jealous\",\"jeans\",\"jelly\",\"jellyfish\",\"jewel\",\"jittery\",\"jobless\",\"jog\",\"join\",\"joke\",\"jolly\",\"joyous\",\"judge\",\"judicious\",\"juggle\",\"juice\",\"juicy\",\"jumbled\",\"jump\",\"jumpy\",\"juvenile\",\"kaput\",\"keen\",\"kettle\",\"key\",\"kick\",\"kill\",\"kind\",\"kindhearted\",\"kindly\",\"kiss\",\"kittens\",\"kitty\",\"knee\",\"kneel\",\"knife\",\"knit\",\"knock\",\"knot\",\"knotty\",\"knowing\",\"knowledge\",\"knowledgeable\",\"known\",\"label\",\"labored\",\"laborer\",\"lace\",\"lackadaisical\",\"lacking\",\"ladybug\",\"lake\",\"lame\",\"lamentable\",\"lamp\",\"land\",\"language\",\"languid\",\"large\",\"last\",\"late\",\"laugh\",\"laughable\",\"launch\",\"lavish\",\"lazy\",\"lean\",\"learn\",\"learned\",\"leather\",\"left\",\"leg\",\"legal\",\"legs\",\"lethal\",\"letter\",\"letters\",\"lettuce\",\"level\",\"lewd\",\"library\",\"license\",\"lick\",\"lie\",\"light\",\"lighten\",\"like\",\"likeable\",\"limit\",\"limping\",\"line\",\"linen\",\"lip\",\"liquid\",\"list\",\"listen\",\"literate\",\"little\",\"live\",\"lively\",\"living\",\"load\",\"loaf\",\"lock\",\"locket\",\"lonely\",\"long\",\"long-term\",\"longing\",\"look\",\"loose\",\"lopsided\",\"loss\",\"loud\",\"loutish\",\"love\",\"lovely\",\"loving\",\"low\",\"lowly\",\"lucky\",\"ludicrous\",\"lumber\",\"lumpy\",\"lunch\",\"lunchroom\",\"lush\",\"luxuriant\",\"lying\",\"lyrical\",\"macabre\",\"machine\",\"macho\",\"maddening\",\"madly\",\"magenta\",\"magic\",\"magical\",\"magnificent\",\"maid\",\"mailbox\",\"majestic\",\"makeshift\",\"male\",\"malicious\",\"mammoth\",\"man\",\"manage\",\"maniacal\",\"many\",\"marble\",\"march\",\"mark\",\"marked\",\"market\",\"married\",\"marry\",\"marvelous\",\"mask\",\"mass\",\"massive\",\"match\",\"mate\",\"material\",\"materialistic\",\"matter\",\"mature\",\"meal\",\"mean\",\"measly\",\"measure\",\"meat\",\"meaty\",\"meddle\",\"medical\",\"meek\",\"meeting\",\"mellow\",\"melodic\",\"melt\",\"melted\",\"memorize\",\"memory\",\"men\",\"mend\",\"merciful\",\"mere\",\"mess up\",\"messy\",\"metal\",\"mice\",\"middle\",\"mighty\",\"military\",\"milk\",\"milky\",\"mind\",\"mindless\",\"mine\",\"miniature\",\"minister\",\"minor\",\"mint\",\"minute\",\"miscreant\",\"miss\",\"mist\",\"misty\",\"mitten\",\"mix\",\"mixed\",\"moan\",\"moaning\",\"modern\",\"moldy\",\"mom\",\"momentous\",\"money\",\"monkey\",\"month\",\"moon\",\"moor\",\"morning\",\"mother\",\"motion\",\"motionless\",\"mountain\",\"mountainous\",\"mourn\",\"mouth\",\"move\",\"muddle\",\"muddled\",\"mug\",\"multiply\",\"mundane\",\"murder\",\"murky\",\"muscle\",\"mushy\",\"mute\",\"mysterious\",\"nail\",\"naive\",\"name\",\"nappy\",\"narrow\",\"nasty\",\"nation\",\"natural\",\"naughty\",\"nauseating\",\"near\",\"neat\",\"nebulous\",\"necessary\",\"neck\",\"need\",\"needle\",\"needless\",\"needy\",\"neighborly\",\"nerve\",\"nervous\",\"nest\",\"new\",\"next\",\"nice\",\"nifty\",\"night\",\"nimble\",\"nine\",\"nippy\",\"nod\",\"noise\",\"noiseless\",\"noisy\",\"nonchalant\",\"nondescript\",\"nonstop\",\"normal\",\"north\",\"nose\",\"nostalgic\",\"nosy\",\"note\",\"notebook\",\"notice\",\"noxious\",\"null\",\"number\",\"numberless\",\"numerous\",\"nut\",\"nutritious\",\"nutty\",\"oafish\",\"oatmeal\",\"obedient\",\"obeisant\",\"obese\",\"obey\",\"object\",\"obnoxious\",\"obscene\",\"obsequious\",\"observant\",\"observation\",\"observe\",\"obsolete\",\"obtain\",\"obtainable\",\"occur\",\"ocean\",\"oceanic\",\"odd\",\"offbeat\",\"offend\",\"offer\",\"office\",\"oil\",\"old\",\"old-fashioned\",\"omniscient\",\"one\",\"onerous\",\"open\",\"opposite\",\"optimal\",\"orange\",\"oranges\",\"order\",\"ordinary\",\"organic\",\"ossified\",\"outgoing\",\"outrageous\",\"outstanding\",\"oval\",\"oven\",\"overconfident\",\"overflow\",\"overjoyed\",\"overrated\",\"overt\",\"overwrought\",\"owe\",\"own\",\"pack\",\"paddle\",\"page\",\"pail\",\"painful\",\"painstaking\",\"paint\",\"pale\",\"paltry\",\"pan\",\"pancake\",\"panicky\",\"panoramic\",\"paper\",\"parallel\",\"parcel\",\"parched\",\"park\",\"parsimonious\",\"part\",\"partner\",\"party\",\"pass\",\"passenger\",\"past\",\"paste\",\"pastoral\",\"pat\",\"pathetic\",\"pause\",\"payment\",\"peace\",\"peaceful\",\"pear\",\"peck\",\"pedal\",\"peel\",\"peep\",\"pen\",\"pencil\",\"penitent\",\"perfect\",\"perform\",\"periodic\",\"permissible\",\"permit\",\"perpetual\",\"person\",\"pest\",\"pet\",\"petite\",\"pets\",\"phobic\",\"phone\",\"physical\",\"picayune\",\"pick\",\"pickle\",\"picture\",\"pie\",\"pies\",\"pig\",\"pigs\",\"pin\",\"pinch\",\"pine\",\"pink\",\"pipe\",\"piquant\",\"pizzas\",\"place\",\"placid\",\"plain\",\"plan\",\"plane\",\"planes\",\"plant\",\"plantation\",\"plants\",\"plastic\",\"plate\",\"plausible\",\"play\",\"playground\",\"pleasant\",\"please\",\"pleasure\",\"plot\",\"plough\",\"plucky\",\"plug\",\"pocket\",\"point\",\"pointless\",\"poised\",\"poison\",\"poke\",\"polish\",\"polite\",\"political\",\"pollution\",\"poor\",\"pop\",\"popcorn\",\"porter\",\"position\",\"possess\",\"possessive\",\"possible\",\"post\",\"pot\",\"potato\",\"pour\",\"powder\",\"power\",\"powerful\",\"practice\",\"pray\",\"preach\",\"precede\",\"precious\",\"prefer\",\"premium\",\"prepare\",\"present\",\"preserve\",\"press\",\"pretend\",\"pretty\",\"prevent\",\"previous\",\"price\",\"pricey\",\"prick\",\"prickly\",\"print\",\"private\",\"probable\",\"produce\",\"productive\",\"profit\",\"profuse\",\"program\",\"promise\",\"property\",\"prose\",\"protect\",\"protective\",\"protest\",\"proud\",\"provide\",\"psychedelic\",\"psychotic\",\"public\",\"puffy\",\"pull\",\"pump\",\"pumped\",\"punch\",\"puncture\",\"punish\",\"punishment\",\"puny\",\"purple\",\"purpose\",\"purring\",\"push\",\"pushy\",\"puzzled\",\"puzzling\",\"quack\",\"quaint\",\"quarrelsome\",\"quarter\",\"quartz\",\"queen\",\"question\",\"questionable\",\"queue\",\"quick\",\"quickest\",\"quicksand\",\"quiet\",\"quill\",\"quilt\",\"quince\",\"quirky\",\"quiver\",\"quixotic\",\"quizzical\",\"rabbit\",\"rabbits\",\"rabid\",\"race\",\"racial\",\"radiate\",\"ragged\",\"rail\",\"railway\",\"rain\",\"rainstorm\",\"rainy\",\"raise\",\"rake\",\"rambunctious\",\"rampant\",\"range\",\"rapid\",\"rare\",\"raspy\",\"rat\",\"rate\",\"ratty\",\"ray\",\"reach\",\"reaction\",\"reading\",\"ready\",\"real\",\"realize\",\"reason\",\"rebel\",\"receipt\",\"receive\",\"receptive\",\"recess\",\"recognise\",\"recondite\",\"record\",\"red\",\"reduce\",\"redundant\",\"reflect\",\"reflective\",\"refuse\",\"regret\",\"regular\",\"reign\",\"reject\",\"rejoice\",\"relation\",\"relax\",\"release\",\"relieved\",\"religion\",\"rely\",\"remain\",\"remarkable\",\"remember\",\"remind\",\"reminiscent\",\"remove\",\"repair\",\"repeat\",\"replace\",\"reply\",\"report\",\"representative\",\"reproduce\",\"repulsive\",\"request\",\"rescue\",\"resolute\",\"resonant\",\"respect\",\"responsible\",\"rest\",\"retire\",\"return\",\"reward\",\"rhetorical\",\"rhyme\",\"rhythm\",\"rice\",\"rich\",\"riddle\",\"rifle\",\"right\",\"righteous\",\"rightful\",\"rigid\",\"ring\",\"rings\",\"rinse\",\"ripe\",\"risk\",\"ritzy\",\"river\",\"road\",\"roasted\",\"rob\",\"robin\",\"robust\",\"rock\",\"rod\",\"roll\",\"romantic\",\"roof\",\"room\",\"roomy\",\"root\",\"rose\",\"rot\",\"rotten\",\"rough\",\"round\",\"route\",\"royal\",\"rub\",\"ruddy\",\"rude\",\"ruin\",\"rule\",\"run\",\"rural\",\"rush\",\"rustic\",\"ruthless\",\"sable\",\"sack\",\"sad\",\"safe\",\"sail\",\"salt\",\"salty\",\"same\",\"sand\",\"sassy\",\"satisfy\",\"satisfying\",\"save\",\"savory\",\"saw\",\"scale\",\"scandalous\",\"scarce\",\"scare\",\"scarecrow\",\"scared\",\"scarf\",\"scary\",\"scatter\",\"scattered\",\"scene\",\"scent\",\"school\",\"science\",\"scientific\",\"scintillating\",\"scissors\",\"scold\",\"scorch\",\"scrape\",\"scratch\",\"scrawny\",\"scream\",\"screeching\",\"screw\",\"scribble\",\"scrub\",\"sea\",\"seal\",\"search\",\"seashore\",\"seat\",\"second\",\"second-hand\",\"secret\",\"secretary\",\"secretive\",\"sedate\",\"seed\",\"seemly\",\"selection\",\"selective\",\"self\",\"selfish\",\"sense\",\"separate\",\"serious\",\"servant\",\"serve\",\"settle\",\"shade\",\"shaggy\",\"shake\",\"shaky\",\"shallow\",\"shame\",\"shape\",\"share\",\"sharp\",\"shave\",\"sheep\",\"sheet\",\"shelf\",\"shelter\",\"shiny\",\"ship\",\"shirt\",\"shiver\",\"shivering\",\"shock\",\"shocking\",\"shoe\",\"shoes\",\"shop\",\"short\",\"show\",\"shrill\",\"shrug\",\"shut\",\"shy\",\"sick\",\"side\",\"sidewalk\",\"sigh\",\"sign\",\"signal\",\"silent\",\"silk\",\"silky\",\"silly\",\"silver\",\"simple\",\"simplistic\",\"sin\",\"sincere\",\"sink\",\"sip\",\"sister\",\"sisters\",\"six\",\"size\",\"skate\",\"ski\",\"skillful\",\"skin\",\"skinny\",\"skip\",\"skirt\",\"sky\",\"slap\",\"slave\",\"sleep\",\"sleepy\",\"sleet\",\"slim\",\"slimy\",\"slip\",\"slippery\",\"slope\",\"sloppy\",\"slow\",\"small\",\"smart\",\"smash\",\"smell\",\"smelly\",\"smile\",\"smiling\",\"smoggy\",\"smoke\",\"smooth\",\"snail\",\"snails\",\"snake\",\"snakes\",\"snatch\",\"sneaky\",\"sneeze\",\"sniff\",\"snobbish\",\"snore\",\"snotty\",\"snow\",\"soak\",\"soap\",\"society\",\"sock\",\"soda\",\"sofa\",\"soft\",\"soggy\",\"solid\",\"somber\",\"son\",\"song\",\"songs\",\"soothe\",\"sophisticated\",\"sordid\",\"sore\",\"sort\",\"sound\",\"soup\",\"sour\",\"space\",\"spade\",\"spare\",\"spark\",\"sparkle\",\"sparkling\",\"special\",\"spectacular\",\"spell\",\"spicy\",\"spiders\",\"spiffy\",\"spiky\",\"spill\",\"spiritual\",\"spiteful\",\"splendid\",\"spoil\",\"sponge\",\"spooky\",\"spoon\",\"spot\",\"spotless\",\"spotted\",\"spotty\",\"spray\",\"spring\",\"sprout\",\"spurious\",\"spy\",\"squalid\",\"square\",\"squash\",\"squeak\",\"squeal\",\"squealing\",\"squeamish\",\"squeeze\",\"squirrel\",\"stage\",\"stain\",\"staking\",\"stale\",\"stamp\",\"standing\",\"star\",\"stare\",\"start\",\"statement\",\"station\",\"statuesque\",\"stay\",\"steadfast\",\"steady\",\"steam\",\"steel\",\"steep\",\"steer\",\"stem\",\"step\",\"stereotyped\",\"stew\",\"stick\",\"sticks\",\"sticky\",\"stiff\",\"stimulating\",\"stingy\",\"stir\",\"stitch\",\"stocking\",\"stomach\",\"stone\",\"stop\",\"store\",\"stormy\",\"story\",\"stove\",\"straight\",\"strange\",\"stranger\",\"strap\",\"straw\",\"stream\",\"street\",\"strengthen\",\"stretch\",\"string\",\"strip\",\"striped\",\"stroke\",\"strong\",\"structure\",\"stuff\",\"stupendous\",\"stupid\",\"sturdy\",\"subdued\",\"subsequent\",\"substance\",\"substantial\",\"subtract\",\"succeed\",\"successful\",\"succinct\",\"suck\",\"sudden\",\"suffer\",\"sugar\",\"suggest\",\"suggestion\",\"suit\",\"sulky\",\"summer\",\"sun\",\"super\",\"superb\",\"superficial\",\"supply\",\"support\",\"suppose\",\"supreme\",\"surprise\",\"surround\",\"suspect\",\"suspend\",\"swanky\",\"sweater\",\"sweet\",\"sweltering\",\"swift\",\"swim\",\"swing\",\"switch\",\"symptomatic\",\"synonymous\",\"system\",\"table\",\"taboo\",\"tacit\",\"tacky\",\"tail\",\"talented\",\"talk\",\"tall\",\"tame\",\"tan\",\"tangible\",\"tangy\",\"tank\",\"tap\",\"tart\",\"taste\",\"tasteful\",\"tasteless\",\"tasty\",\"tawdry\",\"tax\",\"teaching\",\"team\",\"tearful\",\"tease\",\"tedious\",\"teeny\",\"teeny-tiny\",\"teeth\",\"telephone\",\"telling\",\"temper\",\"temporary\",\"tempt\",\"ten\",\"tendency\",\"tender\",\"tense\",\"tent\",\"tenuous\",\"terrible\",\"terrific\",\"terrify\",\"territory\",\"test\",\"tested\",\"testy\",\"texture\",\"thank\",\"thankful\",\"thaw\",\"theory\",\"therapeutic\",\"thick\",\"thin\",\"thing\",\"things\",\"thinkable\",\"third\",\"thirsty\",\"thought\",\"thoughtful\",\"thoughtless\",\"thread\",\"threatening\",\"three\",\"thrill\",\"throat\",\"throne\",\"thumb\",\"thunder\",\"thundering\",\"tick\",\"ticket\",\"tickle\",\"tidy\",\"tie\",\"tiger\",\"tight\",\"tightfisted\",\"time\",\"tin\",\"tiny\",\"tip\",\"tire\",\"tired\",\"tiresome\",\"title\",\"toad\",\"toe\",\"toes\",\"tomatoes\",\"tongue\",\"tooth\",\"toothbrush\",\"toothpaste\",\"toothsome\",\"top\",\"torpid\",\"touch\",\"tough\",\"tour\",\"tow\",\"towering\",\"town\",\"toy\",\"toys\",\"trace\",\"trade\",\"trail\",\"train\",\"trains\",\"tramp\",\"tranquil\",\"transport\",\"trap\",\"trashy\",\"travel\",\"tray\",\"treat\",\"treatment\",\"tree\",\"trees\",\"tremble\",\"tremendous\",\"trick\",\"tricky\",\"trip\",\"trite\",\"trot\",\"trouble\",\"troubled\",\"trousers\",\"truck\",\"trucks\",\"truculent\",\"true\",\"trust\",\"truthful\",\"try\",\"tub\",\"tug\",\"tumble\",\"turkey\",\"turn\",\"twig\",\"twist\",\"two\",\"type\",\"typical\",\"ubiquitous\",\"ugliest\",\"ugly\",\"ultra\",\"umbrella\",\"unable\",\"unaccountable\",\"unadvised\",\"unarmed\",\"unbecoming\",\"unbiased\",\"uncle\",\"uncovered\",\"understood\",\"underwear\",\"undesirable\",\"undress\",\"unequal\",\"unequaled\",\"uneven\",\"unfasten\",\"unhealthy\",\"uninterested\",\"unique\",\"unit\",\"unite\",\"unkempt\",\"unknown\",\"unlock\",\"unnatural\",\"unpack\",\"unruly\",\"unsightly\",\"unsuitable\",\"untidy\",\"unused\",\"unusual\",\"unwieldy\",\"unwritten\",\"upbeat\",\"uppity\",\"upset\",\"uptight\",\"use\",\"used\",\"useful\",\"useless\",\"utopian\",\"utter\",\"uttermost\",\"vacation\",\"vacuous\",\"vagabond\",\"vague\",\"valuable\",\"value\",\"van\",\"vanish\",\"various\",\"vase\",\"vast\",\"vegetable\",\"veil\",\"vein\",\"vengeful\",\"venomous\",\"verdant\",\"verse\",\"versed\",\"vessel\",\"vest\",\"victorious\",\"view\",\"vigorous\",\"violent\",\"violet\",\"visit\",\"visitor\",\"vivacious\",\"voice\",\"voiceless\",\"volatile\",\"volcano\",\"volleyball\",\"voracious\",\"voyage\",\"vulgar\",\"wacky\",\"waggish\",\"wail\",\"wait\",\"waiting\",\"wakeful\",\"walk\",\"wall\",\"wander\",\"wandering\",\"want\",\"wanting\",\"war\",\"warlike\",\"warm\",\"warn\",\"wary\",\"wash\",\"waste\",\"wasteful\",\"watch\",\"water\",\"watery\",\"wave\",\"waves\",\"wax\",\"way\",\"weak\",\"wealth\",\"wealthy\",\"weary\",\"weather\",\"week\",\"weigh\",\"weight\",\"welcome\",\"well-groomed\",\"well-made\",\"well-off\",\"well-to-do\",\"wet\",\"wheel\",\"whimsical\",\"whine\",\"whip\",\"whirl\",\"whisper\",\"whispering\",\"whistle\",\"white\",\"whole\",\"wholesale\",\"wicked\",\"wide\",\"wide-eyed\",\"wiggly\",\"wild\",\"wilderness\",\"willing\",\"wind\",\"window\",\"windy\",\"wine\",\"wing\",\"wink\",\"winter\",\"wipe\",\"wire\",\"wiry\",\"wise\",\"wish\",\"wistful\",\"witty\",\"wobble\",\"woebegone\",\"woman\",\"womanly\",\"women\",\"wonder\",\"wonderful\",\"wood\",\"wooden\",\"wool\",\"woozy\",\"word\",\"work\",\"workable\",\"worm\",\"worried\",\"worry\",\"worthless\",\"wound\",\"wrap\",\"wrathful\",\"wreck\",\"wren\",\"wrench\",\"wrestle\",\"wretched\",\"wriggle\",\"wrist\",\"writer\",\"writing\",\"wrong\",\"wry\",\"x-ray\",\"yak\",\"yam\",\"yard\",\"yarn\",\"yawn\",\"year\",\"yell\",\"yellow\",\"yielding\",\"yoke\",\"young\",\"youthful\",\"yummy\",\"zany\",\"zealous\",\"zebra\",\"zephyr\",\"zesty\",\"zinc\",\"zip\",\"zipper\",\"zippy\",\"zonked\",\"zoo\",\"zoom\"]\n",
        "\n",
        "def get_valid_words(words):\n",
        "    word = random.choice(words)\n",
        "    while '-' in word or ' ' in word:\n",
        "        word = random.choice(words)\n",
        "\n",
        "    return word.upper()\n",
        "\n",
        "def hangman():\n",
        "    word = get_valid_words(words)\n",
        "    word_letters = set(word)\n",
        "    alphabet = set(string.ascii_uppercase)\n",
        "    used_letters = set()\n",
        "    lives = 6\n",
        "\n",
        "    while len(word_letters) > 0 and lives > 0:\n",
        "        # Guessed letters\n",
        "        print(click.style(f\"\\nYou've {lives} left, and you've used these letters: {''.join(used_letters)}\", fg='yellow'))\n",
        "\n",
        "        # Current word\n",
        "        word_list = [letter if letter in used_letters else '-' for letter in word]\n",
        "        print(click.style(f\"\\nCurrent word: {''.join(word_list)}\\n\", fg='green'))\n",
        "\n",
        "        user_letter = input(\"Guess a letter: \").upper()\n",
        "        if user_letter in alphabet - used_letters:\n",
        "            used_letters.add(user_letter)\n",
        "            if user_letter in word_letters:\n",
        "                word_letters.remove(user_letter)\n",
        "\n",
        "            else:\n",
        "                lives -= 1\n",
        "                print(click.style(f\"\\nThe letter is not in word.\"))\n",
        "\n",
        "        elif user_letter in used_letters:\n",
        "            print(click.style(\"\\nYou already guessed that letter.\", fg='red'))\n",
        "\n",
        "        else:\n",
        "            print('Invalid letter.')\n",
        "\n",
        "    if lives == 0:\n",
        "        print(click.style(f\"\\nGame over, the word was {word}\", fg='red'))\n",
        "    else:\n",
        "        print(click.style(f\"\\nYou won! The word was: {word}\\n\", fg='green'))\n",
        "\n",
        "hangman()"
      ],
      "metadata": {
        "colab": {
          "base_uri": "https://localhost:8080/"
        },
        "id": "aJWFaci_r8m-",
        "outputId": "7fda1fd0-d4d4-4d61-97a4-9d01e0fff5e8"
      },
      "execution_count": null,
      "outputs": [
        {
          "output_type": "stream",
          "name": "stdout",
          "text": [
            "\u001b[33m\n",
            "You've 6 left, and you've used these letters: \u001b[0m\n",
            "\u001b[32m\n",
            "Current word: -----\n",
            "\u001b[0m\n",
            "Guess a letter: A\n",
            "\n",
            "The letter is not in word.\u001b[0m\n",
            "\u001b[33m\n",
            "You've 5 left, and you've used these letters: A\u001b[0m\n",
            "\u001b[32m\n",
            "Current word: -----\n",
            "\u001b[0m\n",
            "Guess a letter: H\n",
            "\n",
            "The letter is not in word.\u001b[0m\n",
            "\u001b[33m\n",
            "You've 4 left, and you've used these letters: AH\u001b[0m\n",
            "\u001b[32m\n",
            "Current word: -----\n",
            "\u001b[0m\n",
            "Guess a letter: K\n",
            "\n",
            "The letter is not in word.\u001b[0m\n",
            "\u001b[33m\n",
            "You've 3 left, and you've used these letters: AHK\u001b[0m\n",
            "\u001b[32m\n",
            "Current word: -----\n",
            "\u001b[0m\n",
            "Guess a letter: M\n",
            "\n",
            "The letter is not in word.\u001b[0m\n",
            "\u001b[33m\n",
            "You've 2 left, and you've used these letters: AHKM\u001b[0m\n",
            "\u001b[32m\n",
            "Current word: -----\n",
            "\u001b[0m\n",
            "Guess a letter: D\n",
            "\n",
            "The letter is not in word.\u001b[0m\n",
            "\u001b[33m\n",
            "You've 1 left, and you've used these letters: HAKMD\u001b[0m\n",
            "\u001b[32m\n",
            "Current word: -----\n",
            "\u001b[0m\n",
            "Guess a letter: C\n",
            "\n",
            "The letter is not in word.\u001b[0m\n",
            "\u001b[31m\n",
            "Game over, the word was GOOFY\u001b[0m\n"
          ]
        }
      ]
    },
    {
      "cell_type": "markdown",
      "source": [
        "6 - Countdown Timer"
      ],
      "metadata": {
        "id": "RORUpZUpsLcM"
      }
    },
    {
      "cell_type": "code",
      "source": [
        "import time\n",
        "\n",
        "\n",
        "def countdown(t):\n",
        "    while t:\n",
        "        mins, secs = divmod(t, 60)\n",
        "        timer = '{:02d}:{:02d}'.format(mins, secs) # Formats the time in the format of mm:ss\n",
        "        print(timer, end='\\r') # Overwrites the same line\n",
        "        time.sleep(1)\n",
        "        t -= 1\n",
        "\n",
        "    print('Time is up!')\n",
        "\n",
        "\n",
        "t = int(input(\"\\nEnter the time in seconds: \"))\n",
        "\n",
        "countdown(t)"
      ],
      "metadata": {
        "id": "jgtamBd3sRgw"
      },
      "execution_count": null,
      "outputs": []
    },
    {
      "cell_type": "markdown",
      "source": [
        "7 - Password Generator"
      ],
      "metadata": {
        "id": "GDmv7ViosSQr"
      }
    },
    {
      "cell_type": "code",
      "source": [
        "import string\n",
        "import random\n",
        "\n",
        "\n",
        "def generate_password(length, amount):\n",
        "    letters = string.ascii_letters\n",
        "    digits = string.digits\n",
        "    punctuation = string.punctuation\n",
        "    all_chars = letters + digits + punctuation\n",
        "    password_list = []\n",
        "\n",
        "    for _ in range(amount):\n",
        "        password = ''.join(random.choice(all_chars) for _ in range(length))\n",
        "        password_list.append(password)\n",
        "\n",
        "    print(\"\\nHere are your passwords:\")\n",
        "    for pas in password_list:\n",
        "        print(pas)\n",
        "\n",
        "\n",
        "amount = int(input(\"\\nHow many passwords do you want to generate? \"))\n",
        "length = int(input(\"\\nHow long do you want the passwords to be? \"))\n",
        "\n",
        "generate_password(length, amount)"
      ],
      "metadata": {
        "id": "RUtTPsFXsX7L"
      },
      "execution_count": null,
      "outputs": []
    },
    {
      "cell_type": "markdown",
      "source": [
        "8 - BMI Calculator\n",
        "\n",
        "Deployment link: https://tahasiraj1-project-4-as-assignments1-68-bmicalculatorbmi-dwmoju.streamlit.app/"
      ],
      "metadata": {
        "id": "uckLjAmTsYyp"
      }
    },
    {
      "cell_type": "code",
      "source": [
        "import streamlit as st\n",
        "\n",
        "st.title(\"BMI Calculator\")\n",
        "\n",
        "height = st.slider(\"Enter your height in centimeters: \", 100, 250, 175)\n",
        "weight = st.slider(\"Enter your weight in kilograms: \", 40, 200, 70)\n",
        "\n",
        "\n",
        "if st.button(\"Calculate BMI\", use_container_width=True):\n",
        "    bmi = round(float(weight) / (float(height) / 100) ** 2, 2)\n",
        "    st.success(f\"Your BMI is {bmi}\")\n",
        "\n",
        "\n",
        "st.write(\"## BMI Categories:\")\n",
        "st.write(\"- Underweight: BMI less than 18.5\")\n",
        "st.write(\"- Normal: BMI between 18.5 and 24.9\")\n",
        "st.write(\"- Overweight: BMI between 25 and 29.9\")\n",
        "st.write(\"- Obese: BMI of 30 or more\")"
      ],
      "metadata": {
        "colab": {
          "base_uri": "https://localhost:8080/"
        },
        "collapsed": true,
        "id": "suvf4LvKsfnX",
        "outputId": "88079e28-8b24-4b00-bd92-347b805c0fc8"
      },
      "execution_count": null,
      "outputs": [
        {
          "output_type": "stream",
          "name": "stderr",
          "text": [
            "2025-03-23 16:05:34.773 Thread 'MainThread': missing ScriptRunContext! This warning can be ignored when running in bare mode.\n",
            "2025-03-23 16:05:34.776 Thread 'MainThread': missing ScriptRunContext! This warning can be ignored when running in bare mode.\n",
            "2025-03-23 16:05:34.777 Thread 'MainThread': missing ScriptRunContext! This warning can be ignored when running in bare mode.\n",
            "2025-03-23 16:05:34.778 Thread 'MainThread': missing ScriptRunContext! This warning can be ignored when running in bare mode.\n",
            "2025-03-23 16:05:34.779 Thread 'MainThread': missing ScriptRunContext! This warning can be ignored when running in bare mode.\n",
            "2025-03-23 16:05:34.782 Thread 'MainThread': missing ScriptRunContext! This warning can be ignored when running in bare mode.\n",
            "2025-03-23 16:05:34.783 Thread 'MainThread': missing ScriptRunContext! This warning can be ignored when running in bare mode.\n",
            "2025-03-23 16:05:34.785 Thread 'MainThread': missing ScriptRunContext! This warning can be ignored when running in bare mode.\n",
            "2025-03-23 16:05:34.786 Thread 'MainThread': missing ScriptRunContext! This warning can be ignored when running in bare mode.\n",
            "2025-03-23 16:05:34.787 Thread 'MainThread': missing ScriptRunContext! This warning can be ignored when running in bare mode.\n",
            "2025-03-23 16:05:34.788 Thread 'MainThread': missing ScriptRunContext! This warning can be ignored when running in bare mode.\n",
            "2025-03-23 16:05:34.789 Thread 'MainThread': missing ScriptRunContext! This warning can be ignored when running in bare mode.\n",
            "2025-03-23 16:05:34.791 Thread 'MainThread': missing ScriptRunContext! This warning can be ignored when running in bare mode.\n",
            "2025-03-23 16:05:34.792 Thread 'MainThread': missing ScriptRunContext! This warning can be ignored when running in bare mode.\n",
            "2025-03-23 16:05:34.795 Thread 'MainThread': missing ScriptRunContext! This warning can be ignored when running in bare mode.\n",
            "2025-03-23 16:05:34.796 Thread 'MainThread': missing ScriptRunContext! This warning can be ignored when running in bare mode.\n",
            "2025-03-23 16:05:34.797 Thread 'MainThread': missing ScriptRunContext! This warning can be ignored when running in bare mode.\n",
            "2025-03-23 16:05:34.798 Thread 'MainThread': missing ScriptRunContext! This warning can be ignored when running in bare mode.\n",
            "2025-03-23 16:05:34.800 Thread 'MainThread': missing ScriptRunContext! This warning can be ignored when running in bare mode.\n",
            "2025-03-23 16:05:34.801 Thread 'MainThread': missing ScriptRunContext! This warning can be ignored when running in bare mode.\n",
            "2025-03-23 16:05:34.802 Thread 'MainThread': missing ScriptRunContext! This warning can be ignored when running in bare mode.\n",
            "2025-03-23 16:05:34.803 Thread 'MainThread': missing ScriptRunContext! This warning can be ignored when running in bare mode.\n",
            "2025-03-23 16:05:34.804 Thread 'MainThread': missing ScriptRunContext! This warning can be ignored when running in bare mode.\n",
            "2025-03-23 16:05:34.804 Thread 'MainThread': missing ScriptRunContext! This warning can be ignored when running in bare mode.\n",
            "2025-03-23 16:05:34.805 Thread 'MainThread': missing ScriptRunContext! This warning can be ignored when running in bare mode.\n",
            "2025-03-23 16:05:34.806 Thread 'MainThread': missing ScriptRunContext! This warning can be ignored when running in bare mode.\n",
            "2025-03-23 16:05:34.807 Thread 'MainThread': missing ScriptRunContext! This warning can be ignored when running in bare mode.\n",
            "2025-03-23 16:05:34.807 Thread 'MainThread': missing ScriptRunContext! This warning can be ignored when running in bare mode.\n",
            "2025-03-23 16:05:34.808 Thread 'MainThread': missing ScriptRunContext! This warning can be ignored when running in bare mode.\n",
            "2025-03-23 16:05:34.809 Thread 'MainThread': missing ScriptRunContext! This warning can be ignored when running in bare mode.\n",
            "2025-03-23 16:05:34.809 Thread 'MainThread': missing ScriptRunContext! This warning can be ignored when running in bare mode.\n",
            "2025-03-23 16:05:34.810 Thread 'MainThread': missing ScriptRunContext! This warning can be ignored when running in bare mode.\n",
            "2025-03-23 16:05:34.811 Thread 'MainThread': missing ScriptRunContext! This warning can be ignored when running in bare mode.\n",
            "2025-03-23 16:05:34.812 Thread 'MainThread': missing ScriptRunContext! This warning can be ignored when running in bare mode.\n",
            "2025-03-23 16:05:34.813 Thread 'MainThread': missing ScriptRunContext! This warning can be ignored when running in bare mode.\n",
            "2025-03-23 16:05:34.813 Thread 'MainThread': missing ScriptRunContext! This warning can be ignored when running in bare mode.\n",
            "2025-03-23 16:05:34.814 Thread 'MainThread': missing ScriptRunContext! This warning can be ignored when running in bare mode.\n"
          ]
        }
      ]
    },
    {
      "cell_type": "markdown",
      "source": [
        "9 - Steamlit App in 15 mins\n",
        "\n",
        "Deployment Link:  https://project-4-assignments-fobwsuviuedttjm2pppfpu.streamlit.app/"
      ],
      "metadata": {
        "id": "wH9yXRHmsgvy"
      }
    },
    {
      "cell_type": "code",
      "source": [
        "!pip install streamlit\n",
        "!pip install streamlit-drawable-canvas"
      ],
      "metadata": {
        "colab": {
          "base_uri": "https://localhost:8080/"
        },
        "collapsed": true,
        "id": "E9pykIIVvjOP",
        "outputId": "b5012e86-cc43-4713-cf28-7a2607334253"
      },
      "execution_count": null,
      "outputs": [
        {
          "output_type": "stream",
          "name": "stdout",
          "text": [
            "Traceback (most recent call last):\n",
            "  File \"/usr/local/lib/python3.11/dist-packages/pip/_internal/cli/base_command.py\", line 179, in exc_logging_wrapper\n",
            "    status = run_func(*args)\n",
            "             ^^^^^^^^^^^^^^^\n",
            "  File \"/usr/local/lib/python3.11/dist-packages/pip/_internal/cli/req_command.py\", line 67, in wrapper\n",
            "    return func(self, options, args)\n",
            "           ^^^^^^^^^^^^^^^^^^^^^^^^^\n",
            "  File \"/usr/local/lib/python3.11/dist-packages/pip/_internal/commands/install.py\", line 377, in run\n",
            "    requirement_set = resolver.resolve(\n",
            "                      ^^^^^^^^^^^^^^^^^\n",
            "  File \"/usr/local/lib/python3.11/dist-packages/pip/_internal/resolution/resolvelib/resolver.py\", line 95, in resolve\n",
            "    result = self._result = resolver.resolve(\n",
            "                            ^^^^^^^^^^^^^^^^^\n",
            "  File \"/usr/local/lib/python3.11/dist-packages/pip/_vendor/resolvelib/resolvers.py\", line 546, in resolve\n",
            "    state = resolution.resolve(requirements, max_rounds=max_rounds)\n",
            "            ^^^^^^^^^^^^^^^^^^^^^^^^^^^^^^^^^^^^^^^^^^^^^^^^^^^^^^^\n",
            "  File \"/usr/local/lib/python3.11/dist-packages/pip/_vendor/resolvelib/resolvers.py\", line 397, in resolve\n",
            "    self._add_to_criteria(self.state.criteria, r, parent=None)\n",
            "  File \"/usr/local/lib/python3.11/dist-packages/pip/_vendor/resolvelib/resolvers.py\", line 173, in _add_to_criteria\n",
            "    if not criterion.candidates:\n",
            "  File \"/usr/local/lib/python3.11/dist-packages/pip/_vendor/resolvelib/structs.py\", line 156, in __bool__\n",
            "    return bool(self._sequence)\n",
            "           ^^^^^^^^^^^^^^^^^^^^\n",
            "  File \"/usr/local/lib/python3.11/dist-packages/pip/_internal/resolution/resolvelib/found_candidates.py\", line 174, in __bool__\n",
            "    return any(self)\n",
            "           ^^^^^^^^^\n",
            "  File \"/usr/local/lib/python3.11/dist-packages/pip/_internal/resolution/resolvelib/found_candidates.py\", line 162, in <genexpr>\n",
            "    return (c for c in iterator if id(c) not in self._incompatible_ids)\n",
            "           ^^^^^^^^^^^^^^^^^^^^^^^^^^^^^^^^^^^^^^^^^^^^^^^^^^^^^^^^^^^^\n",
            "  File \"/usr/local/lib/python3.11/dist-packages/pip/_internal/resolution/resolvelib/found_candidates.py\", line 49, in _iter_built\n",
            "    for version, func in infos:\n",
            "  File \"/usr/local/lib/python3.11/dist-packages/pip/_internal/resolution/resolvelib/factory.py\", line 300, in iter_index_candidate_infos\n",
            "    result = self._finder.find_best_candidate(\n",
            "             ^^^^^^^^^^^^^^^^^^^^^^^^^^^^^^^^^\n",
            "  File \"/usr/local/lib/python3.11/dist-packages/pip/_internal/index/package_finder.py\", line 884, in find_best_candidate\n",
            "    candidates = self.find_all_candidates(project_name)\n",
            "                 ^^^^^^^^^^^^^^^^^^^^^^^^^^^^^^^^^^^^^^\n",
            "  File \"/usr/local/lib/python3.11/dist-packages/pip/_internal/index/package_finder.py\", line 825, in find_all_candidates\n",
            "    page_candidates = list(page_candidates_it)\n",
            "                      ^^^^^^^^^^^^^^^^^^^^^^^^\n",
            "  File \"/usr/local/lib/python3.11/dist-packages/pip/_internal/index/sources.py\", line 194, in page_candidates\n",
            "    yield from self._candidates_from_page(self._link)\n",
            "               ^^^^^^^^^^^^^^^^^^^^^^^^^^^^^^^^^^^^^^\n",
            "  File \"/usr/local/lib/python3.11/dist-packages/pip/_internal/index/package_finder.py\", line 789, in process_project_url\n",
            "    page_links = list(parse_links(index_response))\n",
            "                      ^^^^^^^^^^^^^^^^^^^^^^^^^^^\n",
            "  File \"/usr/local/lib/python3.11/dist-packages/pip/_internal/index/collector.py\", line 218, in wrapper_wrapper\n",
            "    return list(fn(page))\n",
            "           ^^^^^^^^^^^^^^\n",
            "  File \"/usr/local/lib/python3.11/dist-packages/pip/_internal/index/collector.py\", line 233, in parse_links\n",
            "    link = Link.from_json(file, page.url)\n",
            "           ^^^^^^^^^^^^^^^^^^^^^^^^^^^^^^\n",
            "  File \"/usr/local/lib/python3.11/dist-packages/pip/_internal/models/link.py\", line 273, in from_json\n",
            "    url = _ensure_quoted_url(urllib.parse.urljoin(page_url, file_url))\n",
            "          ^^^^^^^^^^^^^^^^^^^^^^^^^^^^^^^^^^^^^^^^^^^^^^^^^^^^^^^^^^^^\n",
            "  File \"/usr/local/lib/python3.11/dist-packages/pip/_internal/models/link.py\", line 177, in _ensure_quoted_url\n",
            "    path = _clean_url_path(result.path, is_local_path=is_local_path)\n",
            "           ^^^^^^^^^^^^^^^^^^^^^^^^^^^^^^^^^^^^^^^^^^^^^^^^^^^^^^^^^\n",
            "  File \"/usr/local/lib/python3.11/dist-packages/pip/_internal/models/link.py\", line 159, in _clean_url_path\n",
            "    cleaned_parts.append(clean_func(to_clean))\n",
            "                         ^^^^^^^^^^^^^^^^^^^^\n",
            "  File \"/usr/local/lib/python3.11/dist-packages/pip/_internal/models/link.py\", line 124, in _clean_url_path_part\n",
            "    return urllib.parse.quote(urllib.parse.unquote(part))\n",
            "           ^^^^^^^^^^^^^^^^^^^^^^^^^^^^^^^^^^^^^^^^^^^^^^\n",
            "  File \"/usr/lib/python3.11/urllib/parse.py\", line 899, in quote\n",
            "    return quote_from_bytes(string, safe)\n",
            "           ^^^^^^^^^^^^^^^^^^^^^^^^^^^^^^\n",
            "  File \"/usr/lib/python3.11/urllib/parse.py\", line 923, in quote_from_bytes\n",
            "    def quote_from_bytes(bs, safe='/'):\n",
            "    \n",
            "KeyboardInterrupt\n",
            "\n",
            "During handling of the above exception, another exception occurred:\n",
            "\n",
            "Traceback (most recent call last):\n",
            "  File \"/usr/local/bin/pip3\", line 10, in <module>\n",
            "    sys.exit(main())\n",
            "             ^^^^^^\n",
            "  File \"/usr/local/lib/python3.11/dist-packages/pip/_internal/cli/main.py\", line 80, in main\n",
            "    return command.main(cmd_args)\n",
            "           ^^^^^^^^^^^^^^^^^^^^^^\n",
            "  File \"/usr/local/lib/python3.11/dist-packages/pip/_internal/cli/base_command.py\", line 100, in main\n",
            "    return self._main(args)\n",
            "           ^^^^^^^^^^^^^^^^\n",
            "  File \"/usr/local/lib/python3.11/dist-packages/pip/_internal/cli/base_command.py\", line 232, in _main\n",
            "    return run(options, args)\n",
            "           ^^^^^^^^^^^^^^^^^^\n",
            "  File \"/usr/local/lib/python3.11/dist-packages/pip/_internal/cli/base_command.py\", line 215, in exc_logging_wrapper\n",
            "    logger.critical(\"Operation cancelled by user\")\n",
            "  File \"/usr/lib/python3.11/logging/__init__.py\", line 1526, in critical\n",
            "    def critical(self, msg, *args, **kwargs):\n",
            "\n",
            "KeyboardInterrupt\n",
            "^C\n",
            "Collecting streamlit-drawable-canvas\n",
            "  Downloading streamlit_drawable_canvas-0.9.3-py3-none-any.whl.metadata (8.8 kB)\n",
            "Requirement already satisfied: Pillow in /usr/local/lib/python3.11/dist-packages (from streamlit-drawable-canvas) (11.1.0)\n",
            "Requirement already satisfied: numpy in /usr/local/lib/python3.11/dist-packages (from streamlit-drawable-canvas) (2.0.2)\n",
            "Collecting streamlit>=0.63 (from streamlit-drawable-canvas)\n",
            "  Downloading streamlit-1.43.2-py2.py3-none-any.whl.metadata (8.9 kB)\n",
            "Requirement already satisfied: altair<6,>=4.0 in /usr/local/lib/python3.11/dist-packages (from streamlit>=0.63->streamlit-drawable-canvas) (5.5.0)\n",
            "Requirement already satisfied: blinker<2,>=1.0.0 in /usr/local/lib/python3.11/dist-packages (from streamlit>=0.63->streamlit-drawable-canvas) (1.9.0)\n",
            "Requirement already satisfied: cachetools<6,>=4.0 in /usr/local/lib/python3.11/dist-packages (from streamlit>=0.63->streamlit-drawable-canvas) (5.5.2)\n",
            "Requirement already satisfied: click<9,>=7.0 in /usr/local/lib/python3.11/dist-packages (from streamlit>=0.63->streamlit-drawable-canvas) (8.1.8)\n",
            "Requirement already satisfied: packaging<25,>=20 in /usr/local/lib/python3.11/dist-packages (from streamlit>=0.63->streamlit-drawable-canvas) (24.2)\n",
            "Requirement already satisfied: pandas<3,>=1.4.0 in /usr/local/lib/python3.11/dist-packages (from streamlit>=0.63->streamlit-drawable-canvas) (2.2.2)\n",
            "Requirement already satisfied: protobuf<6,>=3.20 in /usr/local/lib/python3.11/dist-packages (from streamlit>=0.63->streamlit-drawable-canvas) (5.29.3)\n",
            "Requirement already satisfied: pyarrow>=7.0 in /usr/local/lib/python3.11/dist-packages (from streamlit>=0.63->streamlit-drawable-canvas) (18.1.0)\n",
            "Requirement already satisfied: requests<3,>=2.27 in /usr/local/lib/python3.11/dist-packages (from streamlit>=0.63->streamlit-drawable-canvas) (2.32.3)\n",
            "Requirement already satisfied: tenacity<10,>=8.1.0 in /usr/local/lib/python3.11/dist-packages (from streamlit>=0.63->streamlit-drawable-canvas) (9.0.0)\n",
            "Requirement already satisfied: toml<2,>=0.10.1 in /usr/local/lib/python3.11/dist-packages (from streamlit>=0.63->streamlit-drawable-canvas) (0.10.2)\n",
            "Requirement already satisfied: typing-extensions<5,>=4.4.0 in /usr/local/lib/python3.11/dist-packages (from streamlit>=0.63->streamlit-drawable-canvas) (4.12.2)\n",
            "Collecting watchdog<7,>=2.1.5 (from streamlit>=0.63->streamlit-drawable-canvas)\n",
            "  Downloading watchdog-6.0.0-py3-none-manylinux2014_x86_64.whl.metadata (44 kB)\n",
            "\u001b[2K     \u001b[90m━━━━━━━━━━━━━━━━━━━━━━━━━━━━━━━━━━━━━━━━\u001b[0m \u001b[32m44.3/44.3 kB\u001b[0m \u001b[31m2.2 MB/s\u001b[0m eta \u001b[36m0:00:00\u001b[0m\n",
            "\u001b[?25hRequirement already satisfied: gitpython!=3.1.19,<4,>=3.0.7 in /usr/local/lib/python3.11/dist-packages (from streamlit>=0.63->streamlit-drawable-canvas) (3.1.44)\n",
            "Collecting pydeck<1,>=0.8.0b4 (from streamlit>=0.63->streamlit-drawable-canvas)\n",
            "  Downloading pydeck-0.9.1-py2.py3-none-any.whl.metadata (4.1 kB)\n",
            "Requirement already satisfied: tornado<7,>=6.0.3 in /usr/local/lib/python3.11/dist-packages (from streamlit>=0.63->streamlit-drawable-canvas) (6.4.2)\n",
            "Requirement already satisfied: jinja2 in /usr/local/lib/python3.11/dist-packages (from altair<6,>=4.0->streamlit>=0.63->streamlit-drawable-canvas) (3.1.6)\n",
            "Requirement already satisfied: jsonschema>=3.0 in /usr/local/lib/python3.11/dist-packages (from altair<6,>=4.0->streamlit>=0.63->streamlit-drawable-canvas) (4.23.0)\n",
            "Requirement already satisfied: narwhals>=1.14.2 in /usr/local/lib/python3.11/dist-packages (from altair<6,>=4.0->streamlit>=0.63->streamlit-drawable-canvas) (1.31.0)\n",
            "Requirement already satisfied: gitdb<5,>=4.0.1 in /usr/local/lib/python3.11/dist-packages (from gitpython!=3.1.19,<4,>=3.0.7->streamlit>=0.63->streamlit-drawable-canvas) (4.0.12)\n",
            "Requirement already satisfied: python-dateutil>=2.8.2 in /usr/local/lib/python3.11/dist-packages (from pandas<3,>=1.4.0->streamlit>=0.63->streamlit-drawable-canvas) (2.8.2)\n",
            "Requirement already satisfied: pytz>=2020.1 in /usr/local/lib/python3.11/dist-packages (from pandas<3,>=1.4.0->streamlit>=0.63->streamlit-drawable-canvas) (2025.1)\n",
            "Requirement already satisfied: tzdata>=2022.7 in /usr/local/lib/python3.11/dist-packages (from pandas<3,>=1.4.0->streamlit>=0.63->streamlit-drawable-canvas) (2025.1)\n",
            "Requirement already satisfied: charset-normalizer<4,>=2 in /usr/local/lib/python3.11/dist-packages (from requests<3,>=2.27->streamlit>=0.63->streamlit-drawable-canvas) (3.4.1)\n",
            "Requirement already satisfied: idna<4,>=2.5 in /usr/local/lib/python3.11/dist-packages (from requests<3,>=2.27->streamlit>=0.63->streamlit-drawable-canvas) (3.10)\n",
            "Requirement already satisfied: urllib3<3,>=1.21.1 in /usr/local/lib/python3.11/dist-packages (from requests<3,>=2.27->streamlit>=0.63->streamlit-drawable-canvas) (2.3.0)\n",
            "Requirement already satisfied: certifi>=2017.4.17 in /usr/local/lib/python3.11/dist-packages (from requests<3,>=2.27->streamlit>=0.63->streamlit-drawable-canvas) (2025.1.31)\n",
            "Requirement already satisfied: smmap<6,>=3.0.1 in /usr/local/lib/python3.11/dist-packages (from gitdb<5,>=4.0.1->gitpython!=3.1.19,<4,>=3.0.7->streamlit>=0.63->streamlit-drawable-canvas) (5.0.2)\n",
            "Requirement already satisfied: MarkupSafe>=2.0 in /usr/local/lib/python3.11/dist-packages (from jinja2->altair<6,>=4.0->streamlit>=0.63->streamlit-drawable-canvas) (3.0.2)\n",
            "Requirement already satisfied: attrs>=22.2.0 in /usr/local/lib/python3.11/dist-packages (from jsonschema>=3.0->altair<6,>=4.0->streamlit>=0.63->streamlit-drawable-canvas) (25.3.0)\n",
            "Requirement already satisfied: jsonschema-specifications>=2023.03.6 in /usr/local/lib/python3.11/dist-packages (from jsonschema>=3.0->altair<6,>=4.0->streamlit>=0.63->streamlit-drawable-canvas) (2024.10.1)\n",
            "Requirement already satisfied: referencing>=0.28.4 in /usr/local/lib/python3.11/dist-packages (from jsonschema>=3.0->altair<6,>=4.0->streamlit>=0.63->streamlit-drawable-canvas) (0.36.2)\n",
            "Requirement already satisfied: rpds-py>=0.7.1 in /usr/local/lib/python3.11/dist-packages (from jsonschema>=3.0->altair<6,>=4.0->streamlit>=0.63->streamlit-drawable-canvas) (0.23.1)\n",
            "Requirement already satisfied: six>=1.5 in /usr/local/lib/python3.11/dist-packages (from python-dateutil>=2.8.2->pandas<3,>=1.4.0->streamlit>=0.63->streamlit-drawable-canvas) (1.17.0)\n",
            "Downloading streamlit_drawable_canvas-0.9.3-py3-none-any.whl (1.2 MB)\n",
            "\u001b[2K   \u001b[90m━━━━━━━━━━━━━━━━━━━━━━━━━━━━━━━━━━━━━━━━\u001b[0m \u001b[32m1.2/1.2 MB\u001b[0m \u001b[31m25.1 MB/s\u001b[0m eta \u001b[36m0:00:00\u001b[0m\n",
            "\u001b[?25hDownloading streamlit-1.43.2-py2.py3-none-any.whl (9.7 MB)\n",
            "\u001b[2K   \u001b[90m━━━━━━━━━━━━━━━━━━━━━━━━━━━━━━━━━━━━━━━━\u001b[0m \u001b[32m9.7/9.7 MB\u001b[0m \u001b[31m88.8 MB/s\u001b[0m eta \u001b[36m0:00:00\u001b[0m\n",
            "\u001b[?25hDownloading pydeck-0.9.1-py2.py3-none-any.whl (6.9 MB)\n",
            "\u001b[2K   \u001b[90m━━━━━━━━━━━━━━━━━━━━━━━━━━━━━━━━━━━━━━━━\u001b[0m \u001b[32m6.9/6.9 MB\u001b[0m \u001b[31m87.9 MB/s\u001b[0m eta \u001b[36m0:00:00\u001b[0m\n",
            "\u001b[?25hDownloading watchdog-6.0.0-py3-none-manylinux2014_x86_64.whl (79 kB)\n",
            "\u001b[2K   \u001b[90m━━━━━━━━━━━━━━━━━━━━━━━━━━━━━━━━━━━━━━━━\u001b[0m \u001b[32m79.1/79.1 kB\u001b[0m \u001b[31m5.4 MB/s\u001b[0m eta \u001b[36m0:00:00\u001b[0m\n",
            "\u001b[?25hInstalling collected packages: watchdog, pydeck, streamlit, streamlit-drawable-canvas\n",
            "Successfully installed pydeck-0.9.1 streamlit-1.43.2 streamlit-drawable-canvas-0.9.3 watchdog-6.0.0\n"
          ]
        }
      ]
    },
    {
      "cell_type": "code",
      "source": [
        "import requests\n",
        "import streamlit as st\n",
        "\n",
        "\n",
        "st.set_page_config(page_title=\"Weather App\")\n",
        "st.title(\"🌡️ Weather App\")\n",
        "\n",
        "API_KEY = st.secrets[\"WEATHER_API_KEY\"]\n",
        "BASE_URL = \"https://api.openweathermap.org/data/2.5/weather\"\n",
        "\n",
        "# Get city name from user\n",
        "city = st.text_input(\"Enter city name: \").strip().lower()\n",
        "\n",
        "# Construct the API request URL\n",
        "url = f\"{BASE_URL}?q={city}&appid={API_KEY}&units=metric\"\n",
        "\n",
        "if st.button(\"Get Weather\", use_container_width=True):\n",
        "    # Make the API request Fetch weather data\n",
        "    response = requests.get(url)\n",
        "\n",
        "    if response.status_code == 200:\n",
        "        data = response.json()\n",
        "        temperature = data['main']['temp']\n",
        "        condition = data['weather'][0]['main']\n",
        "        humidity = data['main']['humidity']\n",
        "        wind_speed = data['wind']['speed']\n",
        "\n",
        "        st.write(f\"\\n🌍 Weather in {city}:\")\n",
        "        st.success(f\"🌡 Temperature: {temperature}°C\")\n",
        "        st.success(f\"☁ Condition: {condition.capitalize()}\")\n",
        "        st.success(f\"💧 Humidity: {humidity}%\")\n",
        "        st.success(f\"🌬 Wind Speed: {wind_speed} km/h\")\n",
        "    else:\n",
        "        st.error(\"❌ Error: City not found or API request failed!\")\n"
      ],
      "metadata": {
        "colab": {
          "base_uri": "https://localhost:8080/"
        },
        "collapsed": true,
        "id": "Nl4lHPrlsjgn",
        "outputId": "b5f20e5e-2a8b-423d-ace4-c360b3c5ba7e"
      },
      "execution_count": null,
      "outputs": [
        {
          "output_type": "stream",
          "name": "stderr",
          "text": [
            "2025-03-23 16:04:01.820 WARNING streamlit.runtime.scriptrunner_utils.script_run_context: Thread 'MainThread': missing ScriptRunContext! This warning can be ignored when running in bare mode.\n",
            "2025-03-23 16:04:01.822 WARNING streamlit.runtime.scriptrunner_utils.script_run_context: Thread 'MainThread': missing ScriptRunContext! This warning can be ignored when running in bare mode.\n",
            "2025-03-23 16:04:01.824 WARNING streamlit.runtime.scriptrunner_utils.script_run_context: Thread 'MainThread': missing ScriptRunContext! This warning can be ignored when running in bare mode.\n",
            "2025-03-23 16:04:01.932 \n",
            "  \u001b[33m\u001b[1mWarning:\u001b[0m to view this Streamlit app on a browser, run it with the following\n",
            "  command:\n",
            "\n",
            "    streamlit run /usr/local/lib/python3.11/dist-packages/colab_kernel_launcher.py [ARGUMENTS]\n",
            "2025-03-23 16:04:01.935 Thread 'MainThread': missing ScriptRunContext! This warning can be ignored when running in bare mode.\n",
            "2025-03-23 16:04:01.941 Thread 'MainThread': missing ScriptRunContext! This warning can be ignored when running in bare mode.\n",
            "2025-03-23 16:04:01.944 Thread 'MainThread': missing ScriptRunContext! This warning can be ignored when running in bare mode.\n",
            "2025-03-23 16:04:01.947 Thread 'MainThread': missing ScriptRunContext! This warning can be ignored when running in bare mode.\n",
            "2025-03-23 16:04:01.949 Thread 'MainThread': missing ScriptRunContext! This warning can be ignored when running in bare mode.\n",
            "2025-03-23 16:04:01.952 Thread 'MainThread': missing ScriptRunContext! This warning can be ignored when running in bare mode.\n",
            "2025-03-23 16:04:01.954 Thread 'MainThread': missing ScriptRunContext! This warning can be ignored when running in bare mode.\n",
            "2025-03-23 16:04:01.957 Thread 'MainThread': missing ScriptRunContext! This warning can be ignored when running in bare mode.\n",
            "2025-03-23 16:04:01.960 Thread 'MainThread': missing ScriptRunContext! This warning can be ignored when running in bare mode.\n",
            "2025-03-23 16:04:01.968 Thread 'MainThread': missing ScriptRunContext! This warning can be ignored when running in bare mode.\n",
            "2025-03-23 16:04:01.970 Thread 'MainThread': missing ScriptRunContext! This warning can be ignored when running in bare mode.\n",
            "2025-03-23 16:04:01.975 Thread 'MainThread': missing ScriptRunContext! This warning can be ignored when running in bare mode.\n",
            "2025-03-23 16:04:01.980 Thread 'MainThread': missing ScriptRunContext! This warning can be ignored when running in bare mode.\n",
            "2025-03-23 16:04:01.982 Thread 'MainThread': missing ScriptRunContext! This warning can be ignored when running in bare mode.\n",
            "2025-03-23 16:04:01.984 Thread 'MainThread': missing ScriptRunContext! This warning can be ignored when running in bare mode.\n",
            "2025-03-23 16:04:01.986 Thread 'MainThread': missing ScriptRunContext! This warning can be ignored when running in bare mode.\n",
            "2025-03-23 16:04:01.987 Thread 'MainThread': missing ScriptRunContext! This warning can be ignored when running in bare mode.\n",
            "2025-03-23 16:04:01.989 Thread 'MainThread': missing ScriptRunContext! This warning can be ignored when running in bare mode.\n",
            "2025-03-23 16:04:01.992 Thread 'MainThread': missing ScriptRunContext! This warning can be ignored when running in bare mode.\n",
            "2025-03-23 16:04:01.999 Thread 'MainThread': missing ScriptRunContext! This warning can be ignored when running in bare mode.\n",
            "2025-03-23 16:04:02.007 Thread 'MainThread': missing ScriptRunContext! This warning can be ignored when running in bare mode.\n",
            "2025-03-23 16:04:02.008 Thread 'MainThread': missing ScriptRunContext! This warning can be ignored when running in bare mode.\n",
            "2025-03-23 16:04:02.010 Session state does not function when running a script without `streamlit run`\n",
            "2025-03-23 16:04:02.012 Thread 'MainThread': missing ScriptRunContext! This warning can be ignored when running in bare mode.\n",
            "2025-03-23 16:04:02.013 Thread 'MainThread': missing ScriptRunContext! This warning can be ignored when running in bare mode.\n",
            "2025-03-23 16:04:02.015 Thread 'MainThread': missing ScriptRunContext! This warning can be ignored when running in bare mode.\n",
            "2025-03-23 16:04:02.017 Thread 'MainThread': missing ScriptRunContext! This warning can be ignored when running in bare mode.\n",
            "2025-03-23 16:04:02.019 Thread 'MainThread': missing ScriptRunContext! This warning can be ignored when running in bare mode.\n",
            "2025-03-23 16:04:02.021 Thread 'MainThread': missing ScriptRunContext! This warning can be ignored when running in bare mode.\n",
            "2025-03-23 16:04:02.688 Thread 'MainThread': missing ScriptRunContext! This warning can be ignored when running in bare mode.\n",
            "2025-03-23 16:04:02.690 Thread 'MainThread': missing ScriptRunContext! This warning can be ignored when running in bare mode.\n",
            "2025-03-23 16:04:02.698 Thread 'MainThread': missing ScriptRunContext! This warning can be ignored when running in bare mode.\n",
            "2025-03-23 16:04:02.705 Thread 'MainThread': missing ScriptRunContext! This warning can be ignored when running in bare mode.\n",
            "2025-03-23 16:04:02.713 Thread 'MainThread': missing ScriptRunContext! This warning can be ignored when running in bare mode.\n",
            "2025-03-23 16:04:02.714 Thread 'MainThread': missing ScriptRunContext! This warning can be ignored when running in bare mode.\n",
            "2025-03-23 16:04:02.714 Thread 'MainThread': missing ScriptRunContext! This warning can be ignored when running in bare mode.\n",
            "2025-03-23 16:04:02.716 Thread 'MainThread': missing ScriptRunContext! This warning can be ignored when running in bare mode.\n",
            "2025-03-23 16:04:02.721 Thread 'MainThread': missing ScriptRunContext! This warning can be ignored when running in bare mode.\n"
          ]
        }
      ]
    }
  ]
}